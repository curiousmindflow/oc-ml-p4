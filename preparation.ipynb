{
 "cells": [
  {
   "cell_type": "markdown",
   "metadata": {},
   "source": [
    "# 0 Configuration"
   ]
  },
  {
   "cell_type": "code",
   "execution_count": 57,
   "metadata": {},
   "outputs": [],
   "source": [
    "config= {\n",
    "    \"data_loading_disparate\": {\n",
    "        \"loading\": False,\n",
    "        \"study\": False,\n",
    "        \"merging\": False,\n",
    "        \"saving\": False\n",
    "    },\n",
    "    \"overview\": {\n",
    "        \"overview_plot\": True\n",
    "    }\n",
    "}"
   ]
  },
  {
   "cell_type": "markdown",
   "metadata": {},
   "source": [
    "***\n",
    "# 1 Dependencies import"
   ]
  },
  {
   "cell_type": "code",
   "execution_count": 2,
   "metadata": {},
   "outputs": [],
   "source": [
    "import numpy as np\n",
    "import pandas as pd\n",
    "import matplotlib.pyplot as plt\n",
    "import seaborn as sns\n",
    "\n",
    "pd.set_option(\"display.max_columns\", None)\n",
    "pd.set_option(\"display.max_rows\", None)\n",
    "\n",
    "np.random.seed(0)"
   ]
  },
  {
   "cell_type": "code",
   "execution_count": 3,
   "metadata": {},
   "outputs": [],
   "source": [
    "def dataframe_distribution_overview(data, figsize=(10, 3)):\n",
    "    plt.figure(figsize=figsize)\n",
    "\n",
    "    sns.barplot(x=data.columns, y=data.count())\n",
    "\n",
    "    plt.title(\"Number of values per column\", size=20)\n",
    "    plt.xticks(rotation=45, size=16, ha=\"right\")\n",
    "    plt.yticks(size=16)\n",
    "    plt.ylabel(\"Number values\", size=16)\n",
    "    plt.show()"
   ]
  },
  {
   "cell_type": "code",
   "execution_count": 4,
   "metadata": {},
   "outputs": [],
   "source": [
    "def index_lth(data, percentage: int):\n",
    "    percentage = percentage / 100\n",
    "    less_than = data.count() < data.shape[0] * percentage\n",
    "    index_less_than = less_than[less_than == True].index\n",
    "    return index_less_than"
   ]
  },
  {
   "cell_type": "code",
   "execution_count": 5,
   "metadata": {},
   "outputs": [],
   "source": [
    "def multi_plot_numerical(data, features, kind=\"hist\", n_cols=8, figsize=(30, 10), wspace=0.35, hspace=0.35):\n",
    "    feature_nb = len(features)\n",
    "    n_rows = ceil(feature_nb / n_cols)\n",
    "    index = 0\n",
    "\n",
    "    plt.subplots(n_rows, n_cols, figsize=figsize)\n",
    "    plt.subplots_adjust(wspace=wspace, hspace=hspace)\n",
    "\n",
    "    for r in range(n_rows):\n",
    "        for c in range(n_cols):\n",
    "            if index >= feature_nb:\n",
    "                break\n",
    "\n",
    "            plt.subplot(n_rows, n_cols, index+1)\n",
    "\n",
    "            feature = features[index]\n",
    "\n",
    "            if kind == \"box\":\n",
    "                plot = sns.boxplot(y=data[feature])\n",
    "            elif kind == \"hist\":\n",
    "                plot = sns.histplot(data=data[feature], kde=True)\n",
    "            else:\n",
    "                plot = sns.histplot(data=data[feature], kde=True)\n",
    "\n",
    "            plot.set_xlabel(feature, fontsize=12)\n",
    "            plot.set_ylabel(None)\n",
    "\n",
    "            index += 1\n",
    "\n",
    "    plt.show()"
   ]
  },
  {
   "cell_type": "code",
   "execution_count": 6,
   "metadata": {},
   "outputs": [],
   "source": [
    "def create_subplot(dataset, feature, n_rows, index, is_numeric):\n",
    "    plt.subplot(n_rows, 2, index)\n",
    "    uniques = dataset[feature].unique()\n",
    "\n",
    "    if is_numeric:\n",
    "        plot = sns.boxplot(y=dataset[feature])\n",
    "    else:\n",
    "        if uniques.size <= 20 and uniques.size > 0:\n",
    "            plot = sns.countplot(x=dataset[feature])\n",
    "            plt.xticks(rotation=45, size=8, ha=\"right\")\n",
    "        else:\n",
    "            dist = pd.DataFrame(data=[[uniques.size, dataset.shape[0] - uniques.size]], columns=[\"uniques\", \"not_uniques\"])\n",
    "            plot = sns.barplot(data=dist)\n",
    "\n",
    "    plot.set_xlabel(None)\n",
    "    plot.set_ylabel(feature, fontsize=14)\n",
    "\n",
    "\n",
    "def dataset_diff_analysis(data1, data2, exclude=[], figsize=(15, 200)):\n",
    "    features = data1.columns.union(data2.columns).difference(exclude)\n",
    "    n_cols = 2\n",
    "    n_rows = len(features)\n",
    "    col_id = 0\n",
    "    index = 1\n",
    "\n",
    "    plt.subplots(n_rows, n_cols, figsize=figsize)\n",
    "    plt.subplots_adjust(wspace=0.35, hspace=0.5)\n",
    "\n",
    "    for f in features:\n",
    "        is_numeric = False\n",
    "        if f in data1.columns:\n",
    "            f_type = data1[f].dtype\n",
    "        else:\n",
    "            f_type = data2[f].dtype\n",
    "        if f_type in [\"int64\", \"float64\"]:\n",
    "            is_numeric = True\n",
    "\n",
    "        if f in data1.columns.values:\n",
    "            create_subplot(data1, f, n_rows, index, is_numeric)\n",
    "        if f in data2.columns.values:\n",
    "            create_subplot(data2, f, n_rows, index+1, is_numeric)\n",
    "\n",
    "        index += 2\n",
    "\n",
    "    print(f\"features: {features}\")\n",
    "    plt.show()"
   ]
  },
  {
   "cell_type": "code",
   "execution_count": 7,
   "metadata": {},
   "outputs": [],
   "source": [
    "def decribe_several(feature, *df):\n",
    "    data = {}\n",
    "    index = 1\n",
    "    for d in df:\n",
    "        data[feature + \"_\" + str(index)] = d[feature]\n",
    "        index += 1\n",
    "    final_dataframe = pd.DataFrame(data)\n",
    "    return final_dataframe.describe()"
   ]
  },
  {
   "cell_type": "code",
   "execution_count": 8,
   "metadata": {},
   "outputs": [],
   "source": [
    "def head_several(feature, nb, *df):\n",
    "    data = {}\n",
    "    index = 1\n",
    "    for d in df:\n",
    "        data[feature + \"_\" + str(index)] = d[feature]\n",
    "        index += 1\n",
    "    final_dataframe = pd.DataFrame(data)\n",
    "    return final_dataframe.head(nb)"
   ]
  },
  {
   "cell_type": "code",
   "execution_count": 9,
   "metadata": {},
   "outputs": [],
   "source": [
    "class OutlierProcessor():\n",
    "    def __init__(self, data, features, lower_trig, upper_trig):\n",
    "        self.data = data\n",
    "        self.features = features\n",
    "        self.lower_trig = lower_trig\n",
    "        self.upper_trig = upper_trig\n",
    "        self.__above = 0\n",
    "        self.__below = 0\n",
    "        self.__total = 0\n",
    "\n",
    "    def __print(self):\n",
    "        print(f\"lower_trig: {self.lower_trig}\")\n",
    "        print(f\"upper_trig: {self.upper_trig}\")\n",
    "        print(f\"below: {self.__below}\")\n",
    "        print(f\"above: {self.__above}\")\n",
    "        print(f\"total: {self.__total}\")\n",
    "\n",
    "    def analyse(self):\n",
    "        self.__below = self.data[self.data[self.features] < self.lower_trig][self.features].count()\n",
    "        self.__above = self.data[self.data[self.features] > self.upper_trig][self.features].count()\n",
    "        self.__total = self.__below + self.__above\n",
    "        self.__print()\n",
    "\n",
    "    def replace(self, replace_by=np.nan, inplace=False):\n",
    "        result = self.data.loc[:, self.features].where(cond=lambda x: ((x > self.lower_trig) & (self.upper_trig > x)), other=replace_by)\n",
    "        if inplace:\n",
    "            self.data[self.features] = result\n",
    "        else:\n",
    "            return result"
   ]
  },
  {
   "cell_type": "code",
   "execution_count": 10,
   "metadata": {},
   "outputs": [],
   "source": [
    "class OutlierIqrProcessor(OutlierProcessor):\n",
    "    def __init__(self, data, features, exclude=None):\n",
    "        self.features = [feature for feature in features if feature not in exclude]\n",
    "        self.__q1 = data[self.features].quantile(0.25)\n",
    "        self.__q3 = data[self.features].quantile(0.75)\n",
    "        self.__iqr = self.__q3 - self.__q1\n",
    "        upper_trig = self.__q3 + (1.5 * self.__iqr)\n",
    "        lower_trig = self.__q1 - (1.5 * self.__iqr)\n",
    "        super().__init__(data, self.features, lower_trig, upper_trig)"
   ]
  },
  {
   "cell_type": "code",
   "execution_count": 11,
   "metadata": {},
   "outputs": [],
   "source": [
    "def correlation_heatmap(dataset, figsize=(30, 20)):\n",
    "    plt.figure(figsize=figsize)\n",
    "\n",
    "    correlation = dataset.corr()\n",
    "    mask = np.triu(np.ones_like(correlation, dtype=bool))\n",
    "\n",
    "    sns.heatmap(data=correlation, mask=mask, annot=True, vmax=.75, center=0,\n",
    "                square=True, linewidths=.5, cbar_kws={\"shrink\": .5})\n",
    "\n",
    "    plt.title(\"Correlation heatmap\", size=20)\n",
    "    plt.xticks(rotation=45, size=16, ha=\"right\")\n",
    "    plt.yticks(size=16)\n",
    "    plt.show()"
   ]
  },
  {
   "cell_type": "code",
   "execution_count": 12,
   "metadata": {},
   "outputs": [],
   "source": [
    "def unique_several(dataset, features, take=20):\n",
    "    uniques_data = {}\n",
    "    too_many_uniques = []\n",
    "    only_one_uniques = []\n",
    "    only_two_uniques = []\n",
    "\n",
    "    for f in features:\n",
    "        f_uniques = dataset[f].unique()\n",
    "        if f_uniques.size <= take:\n",
    "            if f_uniques.size == 1:\n",
    "                only_one_uniques.append(f)\n",
    "            elif f_uniques.size == 2:\n",
    "                only_two_uniques.append(f)\n",
    "            else:\n",
    "                uniques_data[f] = pd.Series(data=f_uniques, name=f, dtype=\"object\")\n",
    "        else:\n",
    "            too_many_uniques.append((f, f_uniques.size))\n",
    "\n",
    "    print(f\"Only one unique: {only_one_uniques}\")\n",
    "    print(f\"Only two uniques: {only_two_uniques}\")\n",
    "    print(f\"Too many uniques: {too_many_uniques}\")\n",
    "\n",
    "    return pd.DataFrame(data=uniques_data)"
   ]
  },
  {
   "cell_type": "code",
   "execution_count": 13,
   "metadata": {},
   "outputs": [],
   "source": [
    "def strip_and_lower(dataset, features, to_strip=None, inplace=False):\n",
    "    result_data = {}\n",
    "    for f in features:\n",
    "        result_data[f] = pd.Series(data=dataset[f].str.strip(to_strip=to_strip), name=f, dtype=\"object\")\n",
    "        result_data[f] = result_data[f].str.lower()\n",
    "    result = pd.DataFrame(data=result_data)\n",
    "    if inplace:\n",
    "        dataset[features] = result\n",
    "    else:\n",
    "        return result"
   ]
  },
  {
   "cell_type": "code",
   "execution_count": 14,
   "metadata": {},
   "outputs": [],
   "source": [
    "def fuzzy_matching_several(dataset, fuzzy, limit=10):\n",
    "    fuzzy_data = {}\n",
    "    for feature, match in fuzzy:\n",
    "        fuzzy_matches = fuzzywuzzy.process.extract(match, dataset[feature], limit=limit, scorer=fuzzywuzzy.fuzz.token_sort_ratio)\n",
    "        fuzzy_data[feature] = pd.Series(data=fuzzy_matches, name=feature, dtype=\"object\")\n",
    "    return pd.DataFrame(data=fuzzy_data)"
   ]
  },
  {
   "cell_type": "code",
   "execution_count": 15,
   "metadata": {},
   "outputs": [],
   "source": [
    "def feature_distribution_multivar(data, features, figsize=(10, 3), wspace=0.2, hspace=0.2, corr_scale=(0.75, 0), xlim=(None, None), ylim=(None, None)):\n",
    "    plt.subplots(1, 2, figsize=figsize)\n",
    "    plt.subplots_adjust(wspace=wspace, hspace=hspace)\n",
    "\n",
    "    plt.subplot(1, 2, 1)\n",
    "    for f in features:\n",
    "        plot = sns.kdeplot(data=data[f], label=f, shade=True)\n",
    "\n",
    "    plt.title(f\"Distribution\", size=20)\n",
    "    plt.xticks(size=16)\n",
    "    plt.yticks(size=16)\n",
    "    plt.xlim(xlim[0], xlim[1])\n",
    "    plt.ylim(ylim[0], ylim[1])\n",
    "    plt.xlabel(None)\n",
    "    plt.ylabel(\"Density\", size=16)\n",
    "    plt.legend()\n",
    "\n",
    "    plt.subplot(1, 2, 2)\n",
    "    correlation = data.loc[:, features].corr()\n",
    "    mask = np.triu(np.ones_like(correlation, dtype=bool))\n",
    "\n",
    "    sns.heatmap(data=correlation, mask=mask, annot=True, vmax=corr_scale[0], center=corr_scale[1],\n",
    "                square=True, linewidths=.5, cbar_kws={\"shrink\": .5})\n",
    "\n",
    "    plt.title(f\"Correlation\", size=20)\n",
    "    plt.xticks(rotation=45, size=12, ha=\"right\")\n",
    "    plt.yticks(rotation=0, size=12, va=\"center\")\n",
    "    \n",
    "    plt.show()"
   ]
  },
  {
   "cell_type": "markdown",
   "metadata": {},
   "source": [
    "***\n",
    "# 2 Data Loading disparate"
   ]
  },
  {
   "cell_type": "markdown",
   "metadata": {},
   "source": [
    "## 2.1 Loading"
   ]
  },
  {
   "cell_type": "code",
   "execution_count": 16,
   "metadata": {},
   "outputs": [],
   "source": [
    "if config[\"data_loading_disparate\"][\"loading\"]:\n",
    "    customers = pd.read_csv(\"data/olist_customers_dataset.csv\", delimiter=\",\")\n",
    "    geoloc = pd.read_csv(\"data/olist_geolocation_dataset.csv\", delimiter=\",\")\n",
    "    items = pd.read_csv(\"data/olist_order_items_dataset.csv\", delimiter=\",\")\n",
    "    payments = pd.read_csv(\"data/olist_order_payments_dataset.csv\", delimiter=\",\")\n",
    "    reviews = pd.read_csv(\"data/olist_order_reviews_dataset.csv\", delimiter=\",\")\n",
    "    orders = pd.read_csv(\"data/olist_orders_dataset.csv\", delimiter=\",\")\n",
    "    products = pd.read_csv(\"data/olist_products_dataset.csv\", delimiter=\",\")\n",
    "    sellers = pd.read_csv(\"data/olist_sellers_dataset.csv\", delimiter=\",\")\n",
    "    category = pd.read_csv(\"data/product_category_name_translation.csv\", delimiter=\",\")"
   ]
  },
  {
   "cell_type": "markdown",
   "metadata": {},
   "source": [
    "***\n",
    "## 2.2 Overview"
   ]
  },
  {
   "cell_type": "markdown",
   "metadata": {},
   "source": [
    "### 2.2.1 Customers"
   ]
  },
  {
   "cell_type": "code",
   "execution_count": 17,
   "metadata": {},
   "outputs": [
    {
     "name": "stdout",
     "output_type": "stream",
     "text": [
      "<class 'pandas.core.frame.DataFrame'>\n",
      "RangeIndex: 99441 entries, 0 to 99440\n",
      "Data columns (total 5 columns):\n",
      " #   Column                    Non-Null Count  Dtype \n",
      "---  ------                    --------------  ----- \n",
      " 0   customer_id               99441 non-null  object\n",
      " 1   customer_unique_id        99441 non-null  object\n",
      " 2   customer_zip_code_prefix  99441 non-null  int64 \n",
      " 3   customer_city             99441 non-null  object\n",
      " 4   customer_state            99441 non-null  object\n",
      "dtypes: int64(1), object(4)\n",
      "memory usage: 3.8+ MB\n"
     ]
    }
   ],
   "source": [
    "if config[\"data_loading_disparate\"][\"study\"]:\n",
    "    customers.info()"
   ]
  },
  {
   "cell_type": "code",
   "execution_count": 18,
   "metadata": {},
   "outputs": [],
   "source": [
    "if config[\"data_loading_disparate\"][\"study\"]:\n",
    "    customers.describe(include=\"all\")"
   ]
  },
  {
   "cell_type": "code",
   "execution_count": 19,
   "metadata": {},
   "outputs": [],
   "source": [
    "if config[\"data_loading_disparate\"][\"study\"]:\n",
    "    customers.drop_duplicates(subset=[\"customer_unique_id\"], inplace=True)\n",
    "    # customers.rename(columns={\"customer_zip_code_prefix\": \"zip_code_prefix\", \"customer_city\": \"city\", \"customer_state\": \"state\"}, inplace=True)"
   ]
  },
  {
   "cell_type": "code",
   "execution_count": 20,
   "metadata": {},
   "outputs": [
    {
     "name": "stdout",
     "output_type": "stream",
     "text": [
      "<class 'pandas.core.frame.DataFrame'>\n",
      "Int64Index: 96096 entries, 0 to 99440\n",
      "Data columns (total 5 columns):\n",
      " #   Column                    Non-Null Count  Dtype \n",
      "---  ------                    --------------  ----- \n",
      " 0   customer_id               96096 non-null  object\n",
      " 1   customer_unique_id        96096 non-null  object\n",
      " 2   customer_zip_code_prefix  96096 non-null  int64 \n",
      " 3   customer_city             96096 non-null  object\n",
      " 4   customer_state            96096 non-null  object\n",
      "dtypes: int64(1), object(4)\n",
      "memory usage: 4.4+ MB\n"
     ]
    }
   ],
   "source": [
    "if config[\"data_loading_disparate\"][\"study\"]:\n",
    "    customers.info()"
   ]
  },
  {
   "cell_type": "markdown",
   "metadata": {},
   "source": [
    "***\n",
    "### 2.2.2 Geolocation"
   ]
  },
  {
   "cell_type": "code",
   "execution_count": 21,
   "metadata": {},
   "outputs": [
    {
     "name": "stdout",
     "output_type": "stream",
     "text": [
      "<class 'pandas.core.frame.DataFrame'>\n",
      "RangeIndex: 1000163 entries, 0 to 1000162\n",
      "Data columns (total 5 columns):\n",
      " #   Column                       Non-Null Count    Dtype  \n",
      "---  ------                       --------------    -----  \n",
      " 0   geolocation_zip_code_prefix  1000163 non-null  int64  \n",
      " 1   geolocation_lat              1000163 non-null  float64\n",
      " 2   geolocation_lng              1000163 non-null  float64\n",
      " 3   geolocation_city             1000163 non-null  object \n",
      " 4   geolocation_state            1000163 non-null  object \n",
      "dtypes: float64(2), int64(1), object(2)\n",
      "memory usage: 38.2+ MB\n"
     ]
    }
   ],
   "source": [
    "if config[\"data_loading_disparate\"][\"study\"]:\n",
    "    geoloc.info()"
   ]
  },
  {
   "cell_type": "code",
   "execution_count": 22,
   "metadata": {},
   "outputs": [],
   "source": [
    "if config[\"data_loading_disparate\"][\"study\"]:\n",
    "    geoloc.describe(include=\"all\")"
   ]
  },
  {
   "cell_type": "code",
   "execution_count": 23,
   "metadata": {},
   "outputs": [],
   "source": [
    "if config[\"data_loading_disparate\"][\"study\"]:\n",
    "    geoloc.drop_duplicates(subset=[\"geolocation_lat\", \"geolocation_lng\"], inplace=True)\n",
    "    # geoloc.rename(columns={\"geolocation_zip_code_prefix\": \"zip_code_prefix\", \"geolocation_city\": \"city\", \"geolocation_state\": \"state\"}, inplace=True)"
   ]
  },
  {
   "cell_type": "code",
   "execution_count": 24,
   "metadata": {},
   "outputs": [
    {
     "name": "stdout",
     "output_type": "stream",
     "text": [
      "<class 'pandas.core.frame.DataFrame'>\n",
      "Int64Index: 718463 entries, 0 to 1000161\n",
      "Data columns (total 5 columns):\n",
      " #   Column                       Non-Null Count   Dtype  \n",
      "---  ------                       --------------   -----  \n",
      " 0   geolocation_zip_code_prefix  718463 non-null  int64  \n",
      " 1   geolocation_lat              718463 non-null  float64\n",
      " 2   geolocation_lng              718463 non-null  float64\n",
      " 3   geolocation_city             718463 non-null  object \n",
      " 4   geolocation_state            718463 non-null  object \n",
      "dtypes: float64(2), int64(1), object(2)\n",
      "memory usage: 32.9+ MB\n"
     ]
    }
   ],
   "source": [
    "if config[\"data_loading_disparate\"][\"study\"]:\n",
    "    geoloc.info()"
   ]
  },
  {
   "cell_type": "markdown",
   "metadata": {},
   "source": [
    "***\n",
    "### 2.2.3 Items"
   ]
  },
  {
   "cell_type": "code",
   "execution_count": 25,
   "metadata": {},
   "outputs": [
    {
     "name": "stdout",
     "output_type": "stream",
     "text": [
      "<class 'pandas.core.frame.DataFrame'>\n",
      "RangeIndex: 112650 entries, 0 to 112649\n",
      "Data columns (total 7 columns):\n",
      " #   Column               Non-Null Count   Dtype  \n",
      "---  ------               --------------   -----  \n",
      " 0   order_id             112650 non-null  object \n",
      " 1   order_item_id        112650 non-null  int64  \n",
      " 2   product_id           112650 non-null  object \n",
      " 3   seller_id            112650 non-null  object \n",
      " 4   shipping_limit_date  112650 non-null  object \n",
      " 5   price                112650 non-null  float64\n",
      " 6   freight_value        112650 non-null  float64\n",
      "dtypes: float64(2), int64(1), object(4)\n",
      "memory usage: 6.0+ MB\n"
     ]
    }
   ],
   "source": [
    "if config[\"data_loading_disparate\"][\"study\"]:\n",
    "    items.info()"
   ]
  },
  {
   "cell_type": "code",
   "execution_count": 26,
   "metadata": {},
   "outputs": [],
   "source": [
    "if config[\"data_loading_disparate\"][\"study\"]:\n",
    "    items.describe(include=\"all\")"
   ]
  },
  {
   "cell_type": "code",
   "execution_count": 27,
   "metadata": {},
   "outputs": [],
   "source": [
    "if config[\"data_loading_disparate\"][\"study\"]:\n",
    "    items.drop_duplicates(subset=[\"order_id\"], inplace=True)"
   ]
  },
  {
   "cell_type": "code",
   "execution_count": 28,
   "metadata": {},
   "outputs": [
    {
     "name": "stdout",
     "output_type": "stream",
     "text": [
      "<class 'pandas.core.frame.DataFrame'>\n",
      "Int64Index: 98666 entries, 0 to 112649\n",
      "Data columns (total 7 columns):\n",
      " #   Column               Non-Null Count  Dtype  \n",
      "---  ------               --------------  -----  \n",
      " 0   order_id             98666 non-null  object \n",
      " 1   order_item_id        98666 non-null  int64  \n",
      " 2   product_id           98666 non-null  object \n",
      " 3   seller_id            98666 non-null  object \n",
      " 4   shipping_limit_date  98666 non-null  object \n",
      " 5   price                98666 non-null  float64\n",
      " 6   freight_value        98666 non-null  float64\n",
      "dtypes: float64(2), int64(1), object(4)\n",
      "memory usage: 6.0+ MB\n"
     ]
    }
   ],
   "source": [
    "if config[\"data_loading_disparate\"][\"study\"]:\n",
    "    items.info()"
   ]
  },
  {
   "cell_type": "markdown",
   "metadata": {},
   "source": [
    "***\n",
    "### 2.2.4 Payments"
   ]
  },
  {
   "cell_type": "code",
   "execution_count": 29,
   "metadata": {},
   "outputs": [
    {
     "name": "stdout",
     "output_type": "stream",
     "text": [
      "<class 'pandas.core.frame.DataFrame'>\n",
      "RangeIndex: 103886 entries, 0 to 103885\n",
      "Data columns (total 5 columns):\n",
      " #   Column                Non-Null Count   Dtype  \n",
      "---  ------                --------------   -----  \n",
      " 0   order_id              103886 non-null  object \n",
      " 1   payment_sequential    103886 non-null  int64  \n",
      " 2   payment_type          103886 non-null  object \n",
      " 3   payment_installments  103886 non-null  int64  \n",
      " 4   payment_value         103886 non-null  float64\n",
      "dtypes: float64(1), int64(2), object(2)\n",
      "memory usage: 4.0+ MB\n"
     ]
    }
   ],
   "source": [
    "if config[\"data_loading_disparate\"][\"study\"]:\n",
    "    payments.info()"
   ]
  },
  {
   "cell_type": "code",
   "execution_count": 30,
   "metadata": {},
   "outputs": [],
   "source": [
    "if config[\"data_loading_disparate\"][\"study\"]:\n",
    "    payments.describe(include=\"all\")"
   ]
  },
  {
   "cell_type": "code",
   "execution_count": 31,
   "metadata": {},
   "outputs": [],
   "source": [
    "if config[\"data_loading_disparate\"][\"study\"]:\n",
    "    payments.drop_duplicates(subset=[\"order_id\"], inplace=True)"
   ]
  },
  {
   "cell_type": "code",
   "execution_count": 32,
   "metadata": {},
   "outputs": [
    {
     "name": "stdout",
     "output_type": "stream",
     "text": [
      "<class 'pandas.core.frame.DataFrame'>\n",
      "Int64Index: 99440 entries, 0 to 103885\n",
      "Data columns (total 5 columns):\n",
      " #   Column                Non-Null Count  Dtype  \n",
      "---  ------                --------------  -----  \n",
      " 0   order_id              99440 non-null  object \n",
      " 1   payment_sequential    99440 non-null  int64  \n",
      " 2   payment_type          99440 non-null  object \n",
      " 3   payment_installments  99440 non-null  int64  \n",
      " 4   payment_value         99440 non-null  float64\n",
      "dtypes: float64(1), int64(2), object(2)\n",
      "memory usage: 4.6+ MB\n"
     ]
    }
   ],
   "source": [
    "if config[\"data_loading_disparate\"][\"study\"]:\n",
    "    payments.info()"
   ]
  },
  {
   "cell_type": "markdown",
   "metadata": {},
   "source": [
    "***\n",
    "### 2.2.5 Reviews"
   ]
  },
  {
   "cell_type": "code",
   "execution_count": 33,
   "metadata": {},
   "outputs": [
    {
     "name": "stdout",
     "output_type": "stream",
     "text": [
      "<class 'pandas.core.frame.DataFrame'>\n",
      "RangeIndex: 99224 entries, 0 to 99223\n",
      "Data columns (total 7 columns):\n",
      " #   Column                   Non-Null Count  Dtype \n",
      "---  ------                   --------------  ----- \n",
      " 0   review_id                99224 non-null  object\n",
      " 1   order_id                 99224 non-null  object\n",
      " 2   review_score             99224 non-null  int64 \n",
      " 3   review_comment_title     11568 non-null  object\n",
      " 4   review_comment_message   40977 non-null  object\n",
      " 5   review_creation_date     99224 non-null  object\n",
      " 6   review_answer_timestamp  99224 non-null  object\n",
      "dtypes: int64(1), object(6)\n",
      "memory usage: 5.3+ MB\n"
     ]
    }
   ],
   "source": [
    "if config[\"data_loading_disparate\"][\"study\"]:\n",
    "    reviews.info()"
   ]
  },
  {
   "cell_type": "code",
   "execution_count": 34,
   "metadata": {},
   "outputs": [],
   "source": [
    "if config[\"data_loading_disparate\"][\"study\"]:\n",
    "    reviews.describe(include=\"all\")"
   ]
  },
  {
   "cell_type": "code",
   "execution_count": 35,
   "metadata": {},
   "outputs": [],
   "source": [
    "if config[\"data_loading_disparate\"][\"study\"]:\n",
    "    reviews.drop_duplicates(subset=[\"order_id\"], inplace=True)"
   ]
  },
  {
   "cell_type": "code",
   "execution_count": 36,
   "metadata": {},
   "outputs": [
    {
     "name": "stdout",
     "output_type": "stream",
     "text": [
      "<class 'pandas.core.frame.DataFrame'>\n",
      "Int64Index: 98673 entries, 0 to 99223\n",
      "Data columns (total 7 columns):\n",
      " #   Column                   Non-Null Count  Dtype \n",
      "---  ------                   --------------  ----- \n",
      " 0   review_id                98673 non-null  object\n",
      " 1   order_id                 98673 non-null  object\n",
      " 2   review_score             98673 non-null  int64 \n",
      " 3   review_comment_title     11551 non-null  object\n",
      " 4   review_comment_message   40785 non-null  object\n",
      " 5   review_creation_date     98673 non-null  object\n",
      " 6   review_answer_timestamp  98673 non-null  object\n",
      "dtypes: int64(1), object(6)\n",
      "memory usage: 6.0+ MB\n"
     ]
    }
   ],
   "source": [
    "if config[\"data_loading_disparate\"][\"study\"]:\n",
    "    reviews.info()"
   ]
  },
  {
   "cell_type": "markdown",
   "metadata": {},
   "source": [
    "***\n",
    "### 2.2.6 Orders"
   ]
  },
  {
   "cell_type": "code",
   "execution_count": 37,
   "metadata": {},
   "outputs": [
    {
     "name": "stdout",
     "output_type": "stream",
     "text": [
      "<class 'pandas.core.frame.DataFrame'>\n",
      "RangeIndex: 99441 entries, 0 to 99440\n",
      "Data columns (total 8 columns):\n",
      " #   Column                         Non-Null Count  Dtype \n",
      "---  ------                         --------------  ----- \n",
      " 0   order_id                       99441 non-null  object\n",
      " 1   customer_id                    99441 non-null  object\n",
      " 2   order_status                   99441 non-null  object\n",
      " 3   order_purchase_timestamp       99441 non-null  object\n",
      " 4   order_approved_at              99281 non-null  object\n",
      " 5   order_delivered_carrier_date   97658 non-null  object\n",
      " 6   order_delivered_customer_date  96476 non-null  object\n",
      " 7   order_estimated_delivery_date  99441 non-null  object\n",
      "dtypes: object(8)\n",
      "memory usage: 6.1+ MB\n"
     ]
    }
   ],
   "source": [
    "if config[\"data_loading_disparate\"][\"study\"]:\n",
    "    orders.info()"
   ]
  },
  {
   "cell_type": "code",
   "execution_count": 38,
   "metadata": {},
   "outputs": [],
   "source": [
    "if config[\"data_loading_disparate\"][\"study\"]:\n",
    "    orders.describe(include=\"all\")"
   ]
  },
  {
   "cell_type": "code",
   "execution_count": 39,
   "metadata": {},
   "outputs": [],
   "source": [
    "if config[\"data_loading_disparate\"][\"study\"]:\n",
    "    orders.drop_duplicates(subset=[\"order_id\"], inplace=True)"
   ]
  },
  {
   "cell_type": "code",
   "execution_count": 40,
   "metadata": {},
   "outputs": [
    {
     "name": "stdout",
     "output_type": "stream",
     "text": [
      "<class 'pandas.core.frame.DataFrame'>\n",
      "Int64Index: 99441 entries, 0 to 99440\n",
      "Data columns (total 8 columns):\n",
      " #   Column                         Non-Null Count  Dtype \n",
      "---  ------                         --------------  ----- \n",
      " 0   order_id                       99441 non-null  object\n",
      " 1   customer_id                    99441 non-null  object\n",
      " 2   order_status                   99441 non-null  object\n",
      " 3   order_purchase_timestamp       99441 non-null  object\n",
      " 4   order_approved_at              99281 non-null  object\n",
      " 5   order_delivered_carrier_date   97658 non-null  object\n",
      " 6   order_delivered_customer_date  96476 non-null  object\n",
      " 7   order_estimated_delivery_date  99441 non-null  object\n",
      "dtypes: object(8)\n",
      "memory usage: 6.8+ MB\n"
     ]
    }
   ],
   "source": [
    "if config[\"data_loading_disparate\"][\"study\"]:\n",
    "    orders.info()"
   ]
  },
  {
   "cell_type": "markdown",
   "metadata": {},
   "source": [
    "***\n",
    "### 2.2.7 Products"
   ]
  },
  {
   "cell_type": "code",
   "execution_count": 41,
   "metadata": {},
   "outputs": [
    {
     "name": "stdout",
     "output_type": "stream",
     "text": [
      "<class 'pandas.core.frame.DataFrame'>\n",
      "RangeIndex: 32951 entries, 0 to 32950\n",
      "Data columns (total 9 columns):\n",
      " #   Column                      Non-Null Count  Dtype  \n",
      "---  ------                      --------------  -----  \n",
      " 0   product_id                  32951 non-null  object \n",
      " 1   product_category_name       32341 non-null  object \n",
      " 2   product_name_lenght         32341 non-null  float64\n",
      " 3   product_description_lenght  32341 non-null  float64\n",
      " 4   product_photos_qty          32341 non-null  float64\n",
      " 5   product_weight_g            32949 non-null  float64\n",
      " 6   product_length_cm           32949 non-null  float64\n",
      " 7   product_height_cm           32949 non-null  float64\n",
      " 8   product_width_cm            32949 non-null  float64\n",
      "dtypes: float64(7), object(2)\n",
      "memory usage: 2.3+ MB\n"
     ]
    }
   ],
   "source": [
    "if config[\"data_loading_disparate\"][\"study\"]:\n",
    "    products.info()"
   ]
  },
  {
   "cell_type": "code",
   "execution_count": 42,
   "metadata": {},
   "outputs": [],
   "source": [
    "if config[\"data_loading_disparate\"][\"study\"]:\n",
    "    products.describe(include=\"all\")"
   ]
  },
  {
   "cell_type": "code",
   "execution_count": 43,
   "metadata": {},
   "outputs": [],
   "source": [
    "if config[\"data_loading_disparate\"][\"study\"]:\n",
    "    products.drop_duplicates(subset=[\"product_id\"], inplace=True)"
   ]
  },
  {
   "cell_type": "code",
   "execution_count": 44,
   "metadata": {},
   "outputs": [
    {
     "name": "stdout",
     "output_type": "stream",
     "text": [
      "<class 'pandas.core.frame.DataFrame'>\n",
      "Int64Index: 32951 entries, 0 to 32950\n",
      "Data columns (total 9 columns):\n",
      " #   Column                      Non-Null Count  Dtype  \n",
      "---  ------                      --------------  -----  \n",
      " 0   product_id                  32951 non-null  object \n",
      " 1   product_category_name       32341 non-null  object \n",
      " 2   product_name_lenght         32341 non-null  float64\n",
      " 3   product_description_lenght  32341 non-null  float64\n",
      " 4   product_photos_qty          32341 non-null  float64\n",
      " 5   product_weight_g            32949 non-null  float64\n",
      " 6   product_length_cm           32949 non-null  float64\n",
      " 7   product_height_cm           32949 non-null  float64\n",
      " 8   product_width_cm            32949 non-null  float64\n",
      "dtypes: float64(7), object(2)\n",
      "memory usage: 2.5+ MB\n"
     ]
    }
   ],
   "source": [
    "if config[\"data_loading_disparate\"][\"study\"]:\n",
    "    products.info()"
   ]
  },
  {
   "cell_type": "markdown",
   "metadata": {},
   "source": [
    "***\n",
    "### 2.2.8 Sellers"
   ]
  },
  {
   "cell_type": "code",
   "execution_count": 45,
   "metadata": {},
   "outputs": [
    {
     "name": "stdout",
     "output_type": "stream",
     "text": [
      "<class 'pandas.core.frame.DataFrame'>\n",
      "RangeIndex: 3095 entries, 0 to 3094\n",
      "Data columns (total 4 columns):\n",
      " #   Column                  Non-Null Count  Dtype \n",
      "---  ------                  --------------  ----- \n",
      " 0   seller_id               3095 non-null   object\n",
      " 1   seller_zip_code_prefix  3095 non-null   int64 \n",
      " 2   seller_city             3095 non-null   object\n",
      " 3   seller_state            3095 non-null   object\n",
      "dtypes: int64(1), object(3)\n",
      "memory usage: 96.8+ KB\n"
     ]
    }
   ],
   "source": [
    "if config[\"data_loading_disparate\"][\"study\"]:\n",
    "    sellers.info()"
   ]
  },
  {
   "cell_type": "code",
   "execution_count": 46,
   "metadata": {},
   "outputs": [],
   "source": [
    "if config[\"data_loading_disparate\"][\"study\"]:\n",
    "    sellers.describe(include=\"all\")"
   ]
  },
  {
   "cell_type": "code",
   "execution_count": 47,
   "metadata": {},
   "outputs": [],
   "source": [
    "if config[\"data_loading_disparate\"][\"study\"]:\n",
    "    sellers.drop_duplicates(subset=[\"seller_id\"], inplace=True)"
   ]
  },
  {
   "cell_type": "code",
   "execution_count": 48,
   "metadata": {},
   "outputs": [
    {
     "name": "stdout",
     "output_type": "stream",
     "text": [
      "<class 'pandas.core.frame.DataFrame'>\n",
      "Int64Index: 3095 entries, 0 to 3094\n",
      "Data columns (total 4 columns):\n",
      " #   Column                  Non-Null Count  Dtype \n",
      "---  ------                  --------------  ----- \n",
      " 0   seller_id               3095 non-null   object\n",
      " 1   seller_zip_code_prefix  3095 non-null   int64 \n",
      " 2   seller_city             3095 non-null   object\n",
      " 3   seller_state            3095 non-null   object\n",
      "dtypes: int64(1), object(3)\n",
      "memory usage: 120.9+ KB\n"
     ]
    }
   ],
   "source": [
    "if config[\"data_loading_disparate\"][\"study\"]:\n",
    "    sellers.info()"
   ]
  },
  {
   "cell_type": "markdown",
   "metadata": {},
   "source": [
    "***\n",
    "### 2.2.9 Category"
   ]
  },
  {
   "cell_type": "code",
   "execution_count": 49,
   "metadata": {},
   "outputs": [
    {
     "name": "stdout",
     "output_type": "stream",
     "text": [
      "<class 'pandas.core.frame.DataFrame'>\n",
      "RangeIndex: 71 entries, 0 to 70\n",
      "Data columns (total 2 columns):\n",
      " #   Column                         Non-Null Count  Dtype \n",
      "---  ------                         --------------  ----- \n",
      " 0   product_category_name          71 non-null     object\n",
      " 1   product_category_name_english  71 non-null     object\n",
      "dtypes: object(2)\n",
      "memory usage: 1.2+ KB\n"
     ]
    }
   ],
   "source": [
    "if config[\"data_loading_disparate\"][\"study\"]:\n",
    "    category.info()"
   ]
  },
  {
   "cell_type": "code",
   "execution_count": 50,
   "metadata": {},
   "outputs": [],
   "source": [
    "if config[\"data_loading_disparate\"][\"study\"]:\n",
    "    category.describe(include=\"all\")"
   ]
  },
  {
   "cell_type": "code",
   "execution_count": 51,
   "metadata": {},
   "outputs": [],
   "source": [
    "if config[\"data_loading_disparate\"][\"study\"]:\n",
    "    category.drop_duplicates(inplace=True)"
   ]
  },
  {
   "cell_type": "code",
   "execution_count": 52,
   "metadata": {},
   "outputs": [
    {
     "name": "stdout",
     "output_type": "stream",
     "text": [
      "<class 'pandas.core.frame.DataFrame'>\n",
      "Int64Index: 71 entries, 0 to 70\n",
      "Data columns (total 2 columns):\n",
      " #   Column                         Non-Null Count  Dtype \n",
      "---  ------                         --------------  ----- \n",
      " 0   product_category_name          71 non-null     object\n",
      " 1   product_category_name_english  71 non-null     object\n",
      "dtypes: object(2)\n",
      "memory usage: 1.7+ KB\n"
     ]
    }
   ],
   "source": [
    "if config[\"data_loading_disparate\"][\"study\"]:\n",
    "    category.info()"
   ]
  },
  {
   "cell_type": "markdown",
   "metadata": {},
   "source": [
    "***\n",
    "## 2.3 Merging"
   ]
  },
  {
   "cell_type": "code",
   "execution_count": 53,
   "metadata": {},
   "outputs": [
    {
     "name": "stdout",
     "output_type": "stream",
     "text": [
      "<class 'pandas.core.frame.DataFrame'>\n",
      "Int64Index: 94655 entries, 0 to 94654\n",
      "Data columns (total 39 columns):\n",
      " #   Column                         Non-Null Count  Dtype  \n",
      "---  ------                         --------------  -----  \n",
      " 0   order_id                       94655 non-null  object \n",
      " 1   customer_id                    94655 non-null  object \n",
      " 2   order_status                   94655 non-null  object \n",
      " 3   order_purchase_timestamp       94655 non-null  object \n",
      " 4   order_approved_at              94641 non-null  object \n",
      " 5   order_delivered_carrier_date   93698 non-null  object \n",
      " 6   order_delivered_customer_date  92637 non-null  object \n",
      " 7   order_estimated_delivery_date  94655 non-null  object \n",
      " 8   customer_unique_id             94655 non-null  object \n",
      " 9   customer_zip_code_prefix       94655 non-null  int64  \n",
      " 10  customer_city                  94655 non-null  object \n",
      " 11  customer_state                 94655 non-null  object \n",
      " 12  review_id                      94655 non-null  object \n",
      " 13  review_score                   94655 non-null  int64  \n",
      " 14  review_comment_title           11123 non-null  object \n",
      " 15  review_comment_message         38922 non-null  object \n",
      " 16  review_creation_date           94655 non-null  object \n",
      " 17  review_answer_timestamp        94655 non-null  object \n",
      " 18  payment_sequential             94655 non-null  int64  \n",
      " 19  payment_type                   94655 non-null  object \n",
      " 20  payment_installments           94655 non-null  int64  \n",
      " 21  payment_value                  94655 non-null  float64\n",
      " 22  order_item_id                  94655 non-null  int64  \n",
      " 23  product_id                     94655 non-null  object \n",
      " 24  seller_id                      94655 non-null  object \n",
      " 25  shipping_limit_date            94655 non-null  object \n",
      " 26  price                          94655 non-null  float64\n",
      " 27  freight_value                  94655 non-null  float64\n",
      " 28  product_category_name          93298 non-null  object \n",
      " 29  product_name_lenght            93298 non-null  float64\n",
      " 30  product_description_lenght     93298 non-null  float64\n",
      " 31  product_photos_qty             93298 non-null  float64\n",
      " 32  product_weight_g               94641 non-null  float64\n",
      " 33  product_length_cm              94641 non-null  float64\n",
      " 34  product_height_cm              94641 non-null  float64\n",
      " 35  product_width_cm               94641 non-null  float64\n",
      " 36  seller_zip_code_prefix         94655 non-null  int64  \n",
      " 37  seller_city                    94655 non-null  object \n",
      " 38  seller_state                   94655 non-null  object \n",
      "dtypes: float64(10), int64(6), object(23)\n",
      "memory usage: 28.9+ MB\n"
     ]
    }
   ],
   "source": [
    "if config[\"data_loading_disparate\"][\"merging\"]:\n",
    "    data = orders.merge(customers, on=\"customer_id\")\n",
    "    data = data.merge(reviews, on=\"order_id\")\n",
    "    data = data.merge(payments, on=\"order_id\")\n",
    "    data = data.merge(items, on=\"order_id\")\n",
    "    data = data.merge(products, on=\"product_id\")\n",
    "    data = data.merge(sellers, on=\"seller_id\")\n",
    "    # data = data.merge(geoloc, left_on=\"customer_zip_code_prefix\", right_on=\"geolocation_zip_code_prefix\", suffixes=(\"\", \"_ customer\"))\n",
    "    # data = data.merge(geoloc, left_on=\"seller_zip_code_prefix\", right_on=\"geolocation_zip_code_prefix\", suffixes=(\"\", \"_seller\"))\n",
    "\n",
    "    data.info()"
   ]
  },
  {
   "cell_type": "code",
   "execution_count": 54,
   "metadata": {},
   "outputs": [],
   "source": [
    "if config[\"data_loading_disparate\"][\"merging\"] and False:\n",
    "    data = data.merge(geoloc, left_on=\"customer_zip_code_prefix\", right_on=\"geolocation_zip_code_prefix\", suffixes=(\"_customer\", \"_customer\"))\n",
    "\n",
    "    data.info()"
   ]
  },
  {
   "cell_type": "code",
   "execution_count": 55,
   "metadata": {},
   "outputs": [],
   "source": [
    "if config[\"data_loading_disparate\"][\"merging\"] and False:\n",
    "    data = data.merge(geoloc, left_on=\"seller_zip_code_prefix\", right_on=\"geolocation_zip_code_prefix\", suffixes=(\"_seller\", \"_seller\"))\n",
    "\n",
    "    data.info()"
   ]
  },
  {
   "cell_type": "markdown",
   "metadata": {},
   "source": [
    "***\n",
    "## 2.4 Saving"
   ]
  },
  {
   "cell_type": "code",
   "execution_count": 56,
   "metadata": {},
   "outputs": [],
   "source": [
    "if config[\"data_loading_disparate\"][\"saving\"]:\n",
    "    data.to_csv(\"data/data_merged.csv\", sep=\",\")"
   ]
  },
  {
   "cell_type": "markdown",
   "metadata": {},
   "source": [
    "***\n",
    "# 3 Data loading merged"
   ]
  },
  {
   "cell_type": "code",
   "execution_count": 58,
   "metadata": {},
   "outputs": [],
   "source": [
    "data = pd.read_csv(\"data/data_merged.csv\", delimiter=\",\")"
   ]
  },
  {
   "cell_type": "markdown",
   "metadata": {},
   "source": [
    "***\n",
    "# 4 Overview"
   ]
  },
  {
   "cell_type": "code",
   "execution_count": 59,
   "metadata": {},
   "outputs": [
    {
     "data": {
      "image/png": "[encoded data removed]",
      "text/plain": [
       "<Figure size 2160x216 with 1 Axes>"
      ]
     },
     "metadata": {
      "needs_background": "light"
     },
     "output_type": "display_data"
    }
   ],
   "source": [
    "if config[\"overview\"][\"overview_plot\"]:\n",
    "    dataframe_distribution_overview(data, figsize=(30, 3))"
   ]
  },
  {
   "cell_type": "markdown",
   "metadata": {},
   "source": [
    "***\n",
    "# X Saving"
   ]
  },
  {
   "cell_type": "code",
   "execution_count": 60,
   "metadata": {},
   "outputs": [],
   "source": [
    "data.to_csv(\"data/data_cleaned.csv\", sep=\",\")"
   ]
  }
 ],
 "metadata": {
  "interpreter": {
   "hash": "586ad1ed5c97141e2437e681efbf1ec0adcd17d830cf5af2ca3d2819e743e158"
  },
  "kernelspec": {
   "display_name": "Python 3.8.12 64-bit ('base': conda)",
   "language": "python",
   "name": "python3"
  },
  "language_info": {
   "codemirror_mode": {
    "name": "ipython",
    "version": 3
   },
   "file_extension": ".py",
   "mimetype": "text/x-python",
   "name": "python",
   "nbconvert_exporter": "python",
   "pygments_lexer": "ipython3",
   "version": "3.8.12"
  },
  "orig_nbformat": 4
 },
 "nbformat": 4,
 "nbformat_minor": 2
}
