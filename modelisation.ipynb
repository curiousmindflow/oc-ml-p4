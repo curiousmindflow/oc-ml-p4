{
 "cells": [
  {
   "cell_type": "markdown",
   "metadata": {},
   "source": [
    "# 0 Configuration"
   ]
  },
  {
   "cell_type": "code",
   "execution_count": 1,
   "metadata": {},
   "outputs": [],
   "source": [
    "config = {\n",
    "    \"overview\": {\n",
    "\n",
    "    },\n",
    "    \"fe\": {\n",
    "        \"id\": False, # true\n",
    "        \"volume\": False,\n",
    "        \"order_purchase_timestamp\": False, # linked with 'shipping_limit_date'\n",
    "        \"shipping_limit_date\": False,\n",
    "        \"order_estimated_delivery_date\": False,\n",
    "        \"price_agg\": False, # false\n",
    "        \"last_order_datetime\": False,\n",
    "        \"frequency\": False\n",
    "    },\n",
    "    \"model\": {\n",
    "        \"rfm_raw\": {\n",
    "            \"preparation\": False,\n",
    "            \"n_cluster\": False,\n",
    "            \"silhouette\": False,\n",
    "            \"explain\": False,\n",
    "            \"persona\": False\n",
    "        },\n",
    "\n",
    "    },\n",
    "    \"pca\": {\n",
    "        \"do\": True,\n",
    "        \"elbow\": True,\n",
    "        \"silhouette\": False\n",
    "    }\n",
    "}"
   ]
  },
  {
   "cell_type": "markdown",
   "metadata": {},
   "source": [
    "***\n",
    "# 1 Dependencies import"
   ]
  },
  {
   "cell_type": "markdown",
   "metadata": {},
   "source": [
    "## 1.0 Libraries"
   ]
  },
  {
   "cell_type": "code",
   "execution_count": 2,
   "metadata": {},
   "outputs": [],
   "source": [
    "import numpy as np\n",
    "import pandas as pd\n",
    "import matplotlib.pyplot as plt\n",
    "import seaborn as sns\n",
    "\n",
    "import warnings\n",
    "\n",
    "from sklearn.compose import ColumnTransformer\n",
    "from sklearn.pipeline import Pipeline\n",
    "from sklearn.impute import SimpleImputer\n",
    "from sklearn.preprocessing import OneHotEncoder, OrdinalEncoder, StandardScaler, MinMaxScaler\n",
    "from sklearn.cluster import KMeans\n",
    "from sklearn.decomposition import PCA\n",
    "from sklearn.metrics import silhouette_score\n",
    "\n",
    "from yellowbrick.cluster import SilhouetteVisualizer, KElbowVisualizer\n",
    "\n",
    "from math import ceil\n",
    "\n",
    "pd.set_option(\"display.max_columns\", None)\n",
    "pd.set_option(\"display.max_rows\", None)\n",
    "\n",
    "np.random.seed(0)"
   ]
  },
  {
   "cell_type": "markdown",
   "metadata": {},
   "source": [
    "***\n",
    "## 1.1 Features selection"
   ]
  },
  {
   "cell_type": "code",
   "execution_count": 3,
   "metadata": {},
   "outputs": [],
   "source": [
    "def get_categorical_features_name(dataset, split_by_unique_count=True, split_count=10):\n",
    "    features_name = dataset.select_dtypes([\"object\", \"bool\"]).columns\n",
    "    if split_by_unique_count:\n",
    "        less_uniques = [feature_name for feature_name in features_name if dataset[feature_name].nunique() <= split_count]\n",
    "        lot_uniques = features_name.difference(less_uniques).tolist()\n",
    "        return (less_uniques, lot_uniques)\n",
    "    else:\n",
    "        return features_name.values.tolist()"
   ]
  },
  {
   "cell_type": "code",
   "execution_count": 4,
   "metadata": {},
   "outputs": [],
   "source": [
    "def get_numerical_features_name(dataset):\n",
    "    features_name = dataset.select_dtypes([\"int64\", \"float64\"]).columns.values.tolist()\n",
    "    return features_name"
   ]
  },
  {
   "cell_type": "code",
   "execution_count": 5,
   "metadata": {},
   "outputs": [],
   "source": [
    "def progressiveFeatureSelection(df, n_clusters=3, max_features=4,):\n",
    "    feature_list = list(df.columns)\n",
    "    selected_features = list()\n",
    "    # select starting feature\n",
    "    initial_feature = \"\"\n",
    "    high_score = 0\n",
    "    for feature in feature_list:\n",
    "        kmeans = KMeans(n_clusters=n_clusters, random_state=42)\n",
    "        data_ = df[feature]\n",
    "        labels = kmeans.fit_predict(data_.to_frame())\n",
    "        score_ = silhouette_score(data_.to_frame(), labels)\n",
    "        print(\"Proposed new feature {} with score {}\". format(feature, score_))\n",
    "        if score_ >= high_score:\n",
    "            initial_feature = feature\n",
    "            high_score = score_\n",
    "    print(\"The initial feature is {} with a silhouette score of {}.\".format(initial_feature, high_score))\n",
    "    feature_list.remove(initial_feature)\n",
    "    selected_features.append(initial_feature)\n",
    "    for _ in range(max_features-1):\n",
    "        high_score = 0\n",
    "        selected_feature = \"\"\n",
    "        print(\"Starting selection {}...\".format(_))\n",
    "        for feature in feature_list:\n",
    "            selection_ = selected_features.copy()\n",
    "            selection_.append(feature)\n",
    "            kmeans = KMeans(n_clusters=n_clusters, random_state=42)\n",
    "            data_ = df[selection_]\n",
    "            labels = kmeans.fit_predict(data_)\n",
    "            score_ = silhouette_score(data_, labels)\n",
    "            print(\"Proposed new feature {} with score {}\". format(feature, score_))\n",
    "            if score_ > high_score:\n",
    "                selected_feature = feature\n",
    "                high_score = score_\n",
    "        selected_features.append(selected_feature)\n",
    "        feature_list.remove(selected_feature)\n",
    "        print(\"Selected new feature {} with score {}\". format(selected_feature, high_score))\n",
    "    return selected_features"
   ]
  },
  {
   "cell_type": "markdown",
   "metadata": {},
   "source": [
    "***\n",
    "## 1.2 Pipeline construction"
   ]
  },
  {
   "cell_type": "code",
   "execution_count": 6,
   "metadata": {},
   "outputs": [],
   "source": [
    "def evaluate(dataset, model, scoring=\"neg_root_mean_squared_error\"):\n",
    "\n",
    "    ### DATASET PREPARATION ###\n",
    "\n",
    "    # categorical_cols = get_categorical_features_name(dataset, split_by_unique_count=False)\n",
    "    numerical_cols = get_numerical_features_name(dataset)\n",
    "\n",
    "    # X = dataset[numerical_cols + categorical_cols]\n",
    "    X = dataset[numerical_cols]\n",
    "\n",
    "    ### PIPELINE CONSTRUCTION ###\n",
    "\n",
    "    num_pipe = Pipeline(steps=[\n",
    "        (\"simple_imputer\", SimpleImputer(strategy=\"mean\")),\n",
    "        (\"minmax_scaler\", StandardScaler())\n",
    "    ])\n",
    "\n",
    "    # cat_pipe = Pipeline(steps=[\n",
    "    #     (\"simple_imputer\", SimpleImputer(strategy=\"most_frequent\")),\n",
    "    #     (\"ordinal_encoder\", OrdinalEncoder(handle_unknown='use_encoded_value', unknown_value=np.nan)),\n",
    "    #     (\"simple_imputer_bis\", SimpleImputer(strategy=\"mean\")),\n",
    "    #     (\"std_scaler\", StandardScaler())\n",
    "    # ])\n",
    "\n",
    "    preprocessor = ColumnTransformer([\n",
    "        (\"num_pipe\", num_pipe, numerical_cols),\n",
    "        # (\"cat_pipe\", cat_pipe, categorical_cols)\n",
    "    ])\n",
    "\n",
    "    pipeline = Pipeline([\n",
    "        (\"transforms\", preprocessor),\n",
    "        (\"model\", model)\n",
    "    ])\n",
    "\n",
    "    preprocessor.fit(X)\n",
    "    array_preproc = preprocessor.transform(X)\n",
    "    data_preproc = pd.DataFrame(data=array_preproc, columns=X.columns)\n",
    "\n",
    "    return pipeline, preprocessor, data_preproc"
   ]
  },
  {
   "cell_type": "code",
   "execution_count": 7,
   "metadata": {},
   "outputs": [],
   "source": [
    "def pca_preprocessor(dataset):\n",
    "    num_cols = get_numerical_features_name(dataset)\n",
    "    categ_cols, _ = get_categorical_features_name(dataset)\n",
    "\n",
    "    num_pipe = Pipeline(steps=[\n",
    "        (\"imputer_01\", SimpleImputer(strategy=\"mean\")),\n",
    "        (\"scaler_01\", StandardScaler())\n",
    "    ])\n",
    "\n",
    "    categ_pipe = Pipeline(steps=[\n",
    "        (\"imputer_01\", SimpleImputer(strategy=\"most_frequent\")),\n",
    "        (\"encoder_01\", OneHotEncoder(handle_unknown=\"ignore\"))\n",
    "    ])\n",
    "\n",
    "    preprocessor = ColumnTransformer([\n",
    "        (\"num_pipe\", num_pipe, num_cols),\n",
    "        (\"categ_pipe\", categ_pipe, categ_cols)\n",
    "    ])\n",
    "\n",
    "    return preprocessor, num_cols, categ_cols"
   ]
  },
  {
   "cell_type": "code",
   "execution_count": 8,
   "metadata": {},
   "outputs": [],
   "source": [
    "def preprocess_data(dataset):\n",
    "    preprocessor, num_cols, categ_cols = pca_preprocessor(dataset)\n",
    "\n",
    "    raw_preprocessed_data = preprocessor.fit_transform(dataset)\n",
    "\n",
    "    if categ_cols:\n",
    "        categ_cols_preprocessed = preprocessor.transformers_[1][1][\"encoder_01\"].get_feature_names_out(categ_cols).tolist()\n",
    "    else:\n",
    "        categ_cols_preprocessed = []\n",
    "\n",
    "    col_names = num_cols + categ_cols_preprocessed\n",
    "\n",
    "    preprocessed_data = pd.DataFrame(data=raw_preprocessed_data, columns=col_names)\n",
    "\n",
    "    return preprocessed_data"
   ]
  },
  {
   "cell_type": "markdown",
   "metadata": {},
   "source": [
    "***\n",
    "## 1.3 Cluster evaluation"
   ]
  },
  {
   "cell_type": "code",
   "execution_count": 9,
   "metadata": {},
   "outputs": [],
   "source": [
    "def elbow_plot(range, data, figsize=(10,10)):\n",
    "    intertia_list = []\n",
    "    for n in range:\n",
    "        kmeans = KMeans(n_clusters=n, random_state=1)\n",
    "        kmeans.fit(data)\n",
    "        intertia_list.append(kmeans.inertia_)\n",
    "    fig = plt.figure(figsize=figsize)\n",
    "    ax = fig.add_subplot(111)\n",
    "    sns.lineplot(y=intertia_list, x=range, ax=ax)\n",
    "    ax.set_xlabel(\"Cluster\")\n",
    "    ax.set_ylabel(\"Inertia\")\n",
    "    ax.set_xticks(list(range))\n",
    "    fig.show()"
   ]
  },
  {
   "cell_type": "code",
   "execution_count": 10,
   "metadata": {},
   "outputs": [],
   "source": [
    "def silhouette_plot(range, data, n_cols=2, figsize=(20, 10), wspace=0.35, hspace=0.35):\n",
    "    if range[0] == 0:\n",
    "        raise Exception(\"Range must not include 0\")\n",
    "\n",
    "    n_rows = ceil(len(range)/n_cols)\n",
    "    index = 0\n",
    "\n",
    "    plt.subplots(n_rows, n_cols, figsize=figsize)\n",
    "    plt.subplots_adjust(wspace=wspace, hspace=hspace)\n",
    "\n",
    "    for n in range:\n",
    "        kmeans = KMeans(n, random_state=1)\n",
    "\n",
    "        plt.subplot(n_rows, n_cols, index+1)\n",
    "        sv = SilhouetteVisualizer(kmeans, colors=\"yellowbrick\")\n",
    "        sv.fit(data)\n",
    "\n",
    "        index += 1\n",
    "    \n",
    "    plt.show()"
   ]
  },
  {
   "cell_type": "code",
   "execution_count": 11,
   "metadata": {},
   "outputs": [],
   "source": [
    "def find_optimal_epsilon(n_neighbors, data):\n",
    "    neigh = NearestNeighbors(n_neighbors=n_neighbors)\n",
    "    nbrs = neigh.fit(data)\n",
    "    distances, indices = nbrs.kneighbors(data)\n",
    "    distances = np.sort(distances, axis=0)\n",
    "    distances = distances[:,1]\n",
    "    plt.plot(distances)"
   ]
  },
  {
   "cell_type": "markdown",
   "metadata": {},
   "source": [
    "***\n",
    "## 1.4 Dimensionality reduction"
   ]
  },
  {
   "cell_type": "code",
   "execution_count": 12,
   "metadata": {},
   "outputs": [],
   "source": [
    "def scree_plot(dataset, figsize=(15, 5)):\n",
    "    pca = PCA()\n",
    "    pca.fit(dataset)\n",
    "\n",
    "    plt.figure(figsize=figsize)\n",
    "    explain_variance = pd.Series(pca.explained_variance_ratio_)\n",
    "    explain_variance.plot(kind=\"bar\", alpha=0.7)\n",
    "\n",
    "    total = 0\n",
    "    var_ls = []\n",
    "    for x in explain_variance:\n",
    "        total = total + x\n",
    "        var_ls.append(total)\n",
    "    \n",
    "    pd.Series(var_ls).plot(marker=\"o\", alpha=0.7)\n",
    "    plt.xlabel(\"Principle Components\", fontsize=\"x-large\")\n",
    "    plt.ylabel(\"Percentage Variance Explained\", fontsize=\"x-large\")\n",
    "    plt.title(\"Scree plot\", fontsize=\"xx-large\")\n",
    "    plt.show()\n",
    "\n",
    "    return pca"
   ]
  },
  {
   "cell_type": "code",
   "execution_count": 13,
   "metadata": {},
   "outputs": [],
   "source": [
    "def apply_pca(dataset, columns, n_components):\n",
    "    pca = PCA(n_components=n_components)\n",
    "    pca_data = pca.fit_transform(dataset[columns])\n",
    "    components_name = [f\"PC{i+1}\" for i in range(pca_data.shape[1])]\n",
    "    pca_data = pd.DataFrame(data=pca_data, columns=components_name)\n",
    "    loadings = pd.DataFrame(data=pca.components_.T, columns=components_name, index=columns)\n",
    "    return pca, pca_data, loadings"
   ]
  },
  {
   "cell_type": "code",
   "execution_count": 14,
   "metadata": {},
   "outputs": [],
   "source": [
    "def plot_variance(pca, width=8, dpi=100):\n",
    "    fig, axs = plt.subplots(1, 2)\n",
    "    n = pca.n_components_\n",
    "    grid = np.arange(1, n + 1)\n",
    "    evr = pca.explained_variance_ratio_\n",
    "\n",
    "    axs[0].bar(grid, evr)\n",
    "    axs[0].set(\n",
    "        xlabel=\"Component\", title=\"% Explained Variance\", ylim=(0.0, 1.0)\n",
    "    )\n",
    "\n",
    "    cumulative_variance = np.cumsum(evr)\n",
    "    axs[1].plot(np.r_[0, grid], np.r_[0, cumulative_variance], \"o-\")\n",
    "    axs[1].set(\n",
    "        xlabel=\"Component\", title=\"% Cumulative Variance\", ylim=(0.0, 1.0)\n",
    "    )\n",
    "\n",
    "    fig.set(figwidth=8, dpi=100)\n",
    "    return axs"
   ]
  },
  {
   "cell_type": "markdown",
   "metadata": {},
   "source": [
    "***\n",
    "## 1.5 RFM"
   ]
  },
  {
   "cell_type": "code",
   "execution_count": 15,
   "metadata": {},
   "outputs": [],
   "source": [
    "def rfm_distplot(dataset, customer_id, figsize=(20, 5)):\n",
    "    warnings.filterwarnings('ignore')\n",
    "    dataset = dataset.loc[:, dataset.columns.difference(customer_id)]\n",
    "\n",
    "    fig, axes = plt.subplots(1, 3, figsize=figsize)\n",
    "    for i, feature in enumerate(dataset.columns):\n",
    "        sns.distplot(dataset[feature], ax=axes[i])"
   ]
  },
  {
   "cell_type": "code",
   "execution_count": 16,
   "metadata": {},
   "outputs": [],
   "source": [
    "def correlation_heatmap(dataset, figsize=(30, 20)):\n",
    "    plt.figure(figsize=figsize)\n",
    "\n",
    "    correlation = dataset.corr()\n",
    "    mask = np.triu(np.ones_like(correlation, dtype=bool))\n",
    "\n",
    "    sns.heatmap(data=correlation, mask=mask, annot=True, vmax=.75, center=0,\n",
    "                square=True, linewidths=.5, cbar_kws={\"shrink\": .5})\n",
    "\n",
    "    plt.title(\"Correlation heatmap\", size=20)\n",
    "    plt.xticks(rotation=45, size=16, ha=\"right\")\n",
    "    plt.yticks(size=16)\n",
    "    plt.show()"
   ]
  },
  {
   "cell_type": "code",
   "execution_count": 17,
   "metadata": {},
   "outputs": [],
   "source": [
    "def elbow(dataset, k=(2, 12)):\n",
    "    model = KMeans(random_state=1)\n",
    "    elbow_visualizer = KElbowVisualizer(model, k=k)\n",
    "\n",
    "    elbow_visualizer.fit(dataset)\n",
    "    elbow_visualizer.poof()"
   ]
  },
  {
   "cell_type": "code",
   "execution_count": 18,
   "metadata": {},
   "outputs": [],
   "source": [
    "def silhouette(dataset, n):\n",
    "    model = KMeans(n, random_state=1)\n",
    "    silhouette_visualizer = SilhouetteVisualizer(model)\n",
    "\n",
    "    silhouette_visualizer.fit(dataset)\n",
    "    silhouette_visualizer.poof()"
   ]
  },
  {
   "cell_type": "code",
   "execution_count": 19,
   "metadata": {},
   "outputs": [],
   "source": [
    "def explain(dataset, dataset_preproc):\n",
    "    model = KMeans(n_clusters=4, random_state=1).fit(dataset_preproc)\n",
    "    data_explain = dataset\n",
    "    data_explain[\"Cluster\"] = model.labels_\n",
    "\n",
    "    data_explain_melt = pd.melt(data_explain, id_vars=[\"customer_id\", \"Cluster\"], value_vars=[\"Récence\", \"Fréquence\", \"Montant\"], var_name=\"Features\", value_name=\"Value\")\n",
    "    sns.lineplot(\"Features\", \"Value\", hue=\"Cluster\", data=data_explain_melt)\n",
    "    plt.legend()\n",
    "\n",
    "    return data_explain.groupby(\"Cluster\").agg({\n",
    "    \"Récence\": [\"mean\", \"min\", \"max\"],\n",
    "    \"Fréquence\": [\"mean\", \"min\", \"max\"],\n",
    "    \"Montant\": [\"mean\", \"min\", \"max\", \"count\"]\n",
    "})"
   ]
  },
  {
   "cell_type": "markdown",
   "metadata": {},
   "source": [
    "***\n",
    "# 1.6 Explainability"
   ]
  },
  {
   "cell_type": "code",
   "execution_count": 98,
   "metadata": {},
   "outputs": [],
   "source": [
    "def explain_global(dataset, dataset_preproc, clusters, figsize=(30, 10)):\n",
    "    model = KMeans(n_clusters=clusters, random_state=1).fit(dataset_preproc)\n",
    "    data_explain = dataset.copy()\n",
    "    data_explain.loc[:, \"Cluster\"] = model.labels_\n",
    "\n",
    "    data_explain_melt = pd.melt(data_explain, id_vars=[\"customer_id\", \"Cluster\"], value_vars=dataset_preproc.columns, var_name=\"Features\", value_name=\"Value\")\n",
    "\n",
    "    plt.figure(figsize=figsize)\n",
    "    sns.lineplot(x=\"Features\", y=\"Value\", hue=\"Cluster\", data=data_explain_melt)\n",
    "    plt.legend()\n",
    "\n",
    "    return data_explain"
   ]
  },
  {
   "cell_type": "markdown",
   "metadata": {},
   "source": [
    "***\n",
    "# 2 Data loading"
   ]
  },
  {
   "cell_type": "code",
   "execution_count": 21,
   "metadata": {},
   "outputs": [],
   "source": [
    "data = pd.read_csv(\"data/data_cleaned.csv\", delimiter=\",\")"
   ]
  },
  {
   "cell_type": "code",
   "execution_count": 22,
   "metadata": {},
   "outputs": [],
   "source": [
    "# data = pd.read_csv(\"data/data_cleaned.csv\", delimiter=\",\", parse_dates=[\"order_purchase_timestamp\", \"order_approved_at\", \"order_delivered_carrier_date\", \"order_delivered_customer_date\", \"order_estimated_delivery_date\", \"review_creation_date\", \"review_answer_timestamp\", \"shipping_limit_date\"], infer_datetime_format=True)"
   ]
  },
  {
   "cell_type": "markdown",
   "metadata": {},
   "source": [
    "***\n",
    "# 3 Overview"
   ]
  },
  {
   "cell_type": "code",
   "execution_count": 23,
   "metadata": {},
   "outputs": [
    {
     "name": "stdout",
     "output_type": "stream",
     "text": [
      "<class 'pandas.core.frame.DataFrame'>\n",
      "RangeIndex: 111705 entries, 0 to 111704\n",
      "Data columns (total 39 columns):\n",
      " #   Column                         Non-Null Count   Dtype  \n",
      "---  ------                         --------------   -----  \n",
      " 0   order_id                       111705 non-null  object \n",
      " 1   customer_id                    111705 non-null  object \n",
      " 2   order_status                   111705 non-null  object \n",
      " 3   order_purchase_timestamp       111705 non-null  object \n",
      " 4   order_approved_at              111690 non-null  object \n",
      " 5   order_delivered_carrier_date   110530 non-null  object \n",
      " 6   order_delivered_customer_date  109366 non-null  object \n",
      " 7   order_estimated_delivery_date  111705 non-null  object \n",
      " 8   customer_unique_id             107697 non-null  object \n",
      " 9   customer_zip_code_prefix       107697 non-null  float64\n",
      " 10  customer_city                  107697 non-null  object \n",
      " 11  customer_state                 107697 non-null  object \n",
      " 12  review_id                      111705 non-null  object \n",
      " 13  review_score                   111705 non-null  int64  \n",
      " 14  review_comment_title           13416 non-null   object \n",
      " 15  review_comment_message         47402 non-null   object \n",
      " 16  review_creation_date           111705 non-null  object \n",
      " 17  review_answer_timestamp        111705 non-null  object \n",
      " 18  payment_sequential             111705 non-null  int64  \n",
      " 19  payment_type                   111705 non-null  object \n",
      " 20  payment_installments           111702 non-null  float64\n",
      " 21  payment_value                  111705 non-null  float64\n",
      " 22  order_item_id                  111705 non-null  int64  \n",
      " 23  product_id                     111705 non-null  object \n",
      " 24  seller_id                      111705 non-null  object \n",
      " 25  shipping_limit_date            111705 non-null  object \n",
      " 26  price                          111705 non-null  float64\n",
      " 27  freight_value                  111323 non-null  float64\n",
      " 28  product_category_name          110116 non-null  object \n",
      " 29  product_name_lenght            110116 non-null  float64\n",
      " 30  product_description_lenght     110116 non-null  float64\n",
      " 31  product_photos_qty             110116 non-null  float64\n",
      " 32  product_weight_g               111679 non-null  float64\n",
      " 33  product_length_cm              111687 non-null  float64\n",
      " 34  product_height_cm              111687 non-null  float64\n",
      " 35  product_width_cm               111687 non-null  float64\n",
      " 36  seller_zip_code_prefix         111705 non-null  int64  \n",
      " 37  seller_city                    111705 non-null  object \n",
      " 38  seller_state                   111705 non-null  object \n",
      "dtypes: float64(12), int64(4), object(23)\n",
      "memory usage: 33.2+ MB\n"
     ]
    }
   ],
   "source": [
    "data.info()"
   ]
  },
  {
   "cell_type": "code",
   "execution_count": 24,
   "metadata": {},
   "outputs": [
    {
     "data": {
      "text/html": [
       "<div>\n",
       "<style scoped>\n",
       "    .dataframe tbody tr th:only-of-type {\n",
       "        vertical-align: middle;\n",
       "    }\n",
       "\n",
       "    .dataframe tbody tr th {\n",
       "        vertical-align: top;\n",
       "    }\n",
       "\n",
       "    .dataframe thead th {\n",
       "        text-align: right;\n",
       "    }\n",
       "</style>\n",
       "<table border=\"1\" class=\"dataframe\">\n",
       "  <thead>\n",
       "    <tr style=\"text-align: right;\">\n",
       "      <th></th>\n",
       "      <th>customer_zip_code_prefix</th>\n",
       "      <th>review_score</th>\n",
       "      <th>payment_sequential</th>\n",
       "      <th>payment_installments</th>\n",
       "      <th>payment_value</th>\n",
       "      <th>order_item_id</th>\n",
       "      <th>price</th>\n",
       "      <th>freight_value</th>\n",
       "      <th>product_name_lenght</th>\n",
       "      <th>product_description_lenght</th>\n",
       "      <th>product_photos_qty</th>\n",
       "      <th>product_weight_g</th>\n",
       "      <th>product_length_cm</th>\n",
       "      <th>product_height_cm</th>\n",
       "      <th>product_width_cm</th>\n",
       "      <th>seller_zip_code_prefix</th>\n",
       "    </tr>\n",
       "  </thead>\n",
       "  <tbody>\n",
       "    <tr>\n",
       "      <th>count</th>\n",
       "      <td>107697.000000</td>\n",
       "      <td>111705.000000</td>\n",
       "      <td>111705.000000</td>\n",
       "      <td>111702.000000</td>\n",
       "      <td>111705.00000</td>\n",
       "      <td>111705.000000</td>\n",
       "      <td>111705.000000</td>\n",
       "      <td>111323.000000</td>\n",
       "      <td>110116.000000</td>\n",
       "      <td>110116.000000</td>\n",
       "      <td>110116.000000</td>\n",
       "      <td>111679.000000</td>\n",
       "      <td>111687.000000</td>\n",
       "      <td>111687.000000</td>\n",
       "      <td>111687.000000</td>\n",
       "      <td>111705.000000</td>\n",
       "    </tr>\n",
       "    <tr>\n",
       "      <th>mean</th>\n",
       "      <td>35174.843524</td>\n",
       "      <td>4.033597</td>\n",
       "      <td>1.022640</td>\n",
       "      <td>3.000116</td>\n",
       "      <td>177.04113</td>\n",
       "      <td>1.195273</td>\n",
       "      <td>120.556914</td>\n",
       "      <td>20.057779</td>\n",
       "      <td>48.776390</td>\n",
       "      <td>787.762478</td>\n",
       "      <td>2.209988</td>\n",
       "      <td>2092.554187</td>\n",
       "      <td>30.143616</td>\n",
       "      <td>16.586111</td>\n",
       "      <td>22.994332</td>\n",
       "      <td>24447.946896</td>\n",
       "    </tr>\n",
       "    <tr>\n",
       "      <th>std</th>\n",
       "      <td>29885.219509</td>\n",
       "      <td>1.387014</td>\n",
       "      <td>0.256334</td>\n",
       "      <td>2.794302</td>\n",
       "      <td>269.13137</td>\n",
       "      <td>0.689177</td>\n",
       "      <td>182.507246</td>\n",
       "      <td>15.788333</td>\n",
       "      <td>10.025996</td>\n",
       "      <td>651.996358</td>\n",
       "      <td>1.721755</td>\n",
       "      <td>3750.548184</td>\n",
       "      <td>16.141022</td>\n",
       "      <td>13.442283</td>\n",
       "      <td>11.706423</td>\n",
       "      <td>27605.113502</td>\n",
       "    </tr>\n",
       "    <tr>\n",
       "      <th>min</th>\n",
       "      <td>1003.000000</td>\n",
       "      <td>1.000000</td>\n",
       "      <td>1.000000</td>\n",
       "      <td>1.000000</td>\n",
       "      <td>0.01000</td>\n",
       "      <td>1.000000</td>\n",
       "      <td>0.850000</td>\n",
       "      <td>0.010000</td>\n",
       "      <td>5.000000</td>\n",
       "      <td>4.000000</td>\n",
       "      <td>1.000000</td>\n",
       "      <td>2.000000</td>\n",
       "      <td>7.000000</td>\n",
       "      <td>2.000000</td>\n",
       "      <td>6.000000</td>\n",
       "      <td>1001.000000</td>\n",
       "    </tr>\n",
       "    <tr>\n",
       "      <th>25%</th>\n",
       "      <td>11340.000000</td>\n",
       "      <td>4.000000</td>\n",
       "      <td>1.000000</td>\n",
       "      <td>1.000000</td>\n",
       "      <td>64.01000</td>\n",
       "      <td>1.000000</td>\n",
       "      <td>39.900000</td>\n",
       "      <td>13.085000</td>\n",
       "      <td>42.000000</td>\n",
       "      <td>348.000000</td>\n",
       "      <td>1.000000</td>\n",
       "      <td>300.000000</td>\n",
       "      <td>18.000000</td>\n",
       "      <td>8.000000</td>\n",
       "      <td>15.000000</td>\n",
       "      <td>6429.000000</td>\n",
       "    </tr>\n",
       "    <tr>\n",
       "      <th>50%</th>\n",
       "      <td>24350.000000</td>\n",
       "      <td>5.000000</td>\n",
       "      <td>1.000000</td>\n",
       "      <td>2.000000</td>\n",
       "      <td>112.42000</td>\n",
       "      <td>1.000000</td>\n",
       "      <td>74.990000</td>\n",
       "      <td>16.290000</td>\n",
       "      <td>52.000000</td>\n",
       "      <td>602.000000</td>\n",
       "      <td>1.000000</td>\n",
       "      <td>700.000000</td>\n",
       "      <td>25.000000</td>\n",
       "      <td>13.000000</td>\n",
       "      <td>20.000000</td>\n",
       "      <td>13566.000000</td>\n",
       "    </tr>\n",
       "    <tr>\n",
       "      <th>75%</th>\n",
       "      <td>59075.000000</td>\n",
       "      <td>5.000000</td>\n",
       "      <td>1.000000</td>\n",
       "      <td>4.000000</td>\n",
       "      <td>193.32000</td>\n",
       "      <td>1.000000</td>\n",
       "      <td>134.900000</td>\n",
       "      <td>21.160000</td>\n",
       "      <td>57.000000</td>\n",
       "      <td>986.000000</td>\n",
       "      <td>3.000000</td>\n",
       "      <td>1800.000000</td>\n",
       "      <td>38.000000</td>\n",
       "      <td>20.000000</td>\n",
       "      <td>30.000000</td>\n",
       "      <td>28035.000000</td>\n",
       "    </tr>\n",
       "    <tr>\n",
       "      <th>max</th>\n",
       "      <td>99990.000000</td>\n",
       "      <td>5.000000</td>\n",
       "      <td>27.000000</td>\n",
       "      <td>24.000000</td>\n",
       "      <td>13664.08000</td>\n",
       "      <td>21.000000</td>\n",
       "      <td>6735.000000</td>\n",
       "      <td>409.680000</td>\n",
       "      <td>76.000000</td>\n",
       "      <td>3992.000000</td>\n",
       "      <td>20.000000</td>\n",
       "      <td>40425.000000</td>\n",
       "      <td>105.000000</td>\n",
       "      <td>105.000000</td>\n",
       "      <td>118.000000</td>\n",
       "      <td>99730.000000</td>\n",
       "    </tr>\n",
       "  </tbody>\n",
       "</table>\n",
       "</div>"
      ],
      "text/plain": [
       "       customer_zip_code_prefix   review_score  payment_sequential  \\\n",
       "count             107697.000000  111705.000000       111705.000000   \n",
       "mean               35174.843524       4.033597            1.022640   \n",
       "std                29885.219509       1.387014            0.256334   \n",
       "min                 1003.000000       1.000000            1.000000   \n",
       "25%                11340.000000       4.000000            1.000000   \n",
       "50%                24350.000000       5.000000            1.000000   \n",
       "75%                59075.000000       5.000000            1.000000   \n",
       "max                99990.000000       5.000000           27.000000   \n",
       "\n",
       "       payment_installments  payment_value  order_item_id          price  \\\n",
       "count         111702.000000   111705.00000  111705.000000  111705.000000   \n",
       "mean               3.000116      177.04113       1.195273     120.556914   \n",
       "std                2.794302      269.13137       0.689177     182.507246   \n",
       "min                1.000000        0.01000       1.000000       0.850000   \n",
       "25%                1.000000       64.01000       1.000000      39.900000   \n",
       "50%                2.000000      112.42000       1.000000      74.990000   \n",
       "75%                4.000000      193.32000       1.000000     134.900000   \n",
       "max               24.000000    13664.08000      21.000000    6735.000000   \n",
       "\n",
       "       freight_value  product_name_lenght  product_description_lenght  \\\n",
       "count  111323.000000        110116.000000               110116.000000   \n",
       "mean       20.057779            48.776390                  787.762478   \n",
       "std        15.788333            10.025996                  651.996358   \n",
       "min         0.010000             5.000000                    4.000000   \n",
       "25%        13.085000            42.000000                  348.000000   \n",
       "50%        16.290000            52.000000                  602.000000   \n",
       "75%        21.160000            57.000000                  986.000000   \n",
       "max       409.680000            76.000000                 3992.000000   \n",
       "\n",
       "       product_photos_qty  product_weight_g  product_length_cm  \\\n",
       "count       110116.000000     111679.000000      111687.000000   \n",
       "mean             2.209988       2092.554187          30.143616   \n",
       "std              1.721755       3750.548184          16.141022   \n",
       "min              1.000000          2.000000           7.000000   \n",
       "25%              1.000000        300.000000          18.000000   \n",
       "50%              1.000000        700.000000          25.000000   \n",
       "75%              3.000000       1800.000000          38.000000   \n",
       "max             20.000000      40425.000000         105.000000   \n",
       "\n",
       "       product_height_cm  product_width_cm  seller_zip_code_prefix  \n",
       "count      111687.000000     111687.000000           111705.000000  \n",
       "mean           16.586111         22.994332            24447.946896  \n",
       "std            13.442283         11.706423            27605.113502  \n",
       "min             2.000000          6.000000             1001.000000  \n",
       "25%             8.000000         15.000000             6429.000000  \n",
       "50%            13.000000         20.000000            13566.000000  \n",
       "75%            20.000000         30.000000            28035.000000  \n",
       "max           105.000000        118.000000            99730.000000  "
      ]
     },
     "execution_count": 24,
     "metadata": {},
     "output_type": "execute_result"
    }
   ],
   "source": [
    "data.describe()"
   ]
  },
  {
   "cell_type": "code",
   "execution_count": 25,
   "metadata": {},
   "outputs": [
    {
     "data": {
      "text/html": [
       "<div>\n",
       "<style scoped>\n",
       "    .dataframe tbody tr th:only-of-type {\n",
       "        vertical-align: middle;\n",
       "    }\n",
       "\n",
       "    .dataframe tbody tr th {\n",
       "        vertical-align: top;\n",
       "    }\n",
       "\n",
       "    .dataframe thead th {\n",
       "        text-align: right;\n",
       "    }\n",
       "</style>\n",
       "<table border=\"1\" class=\"dataframe\">\n",
       "  <thead>\n",
       "    <tr style=\"text-align: right;\">\n",
       "      <th></th>\n",
       "      <th>order_id</th>\n",
       "      <th>customer_id</th>\n",
       "      <th>order_status</th>\n",
       "      <th>order_purchase_timestamp</th>\n",
       "      <th>order_approved_at</th>\n",
       "      <th>order_delivered_carrier_date</th>\n",
       "      <th>order_delivered_customer_date</th>\n",
       "      <th>order_estimated_delivery_date</th>\n",
       "      <th>customer_unique_id</th>\n",
       "      <th>customer_city</th>\n",
       "      <th>customer_state</th>\n",
       "      <th>review_id</th>\n",
       "      <th>review_comment_title</th>\n",
       "      <th>review_comment_message</th>\n",
       "      <th>review_creation_date</th>\n",
       "      <th>review_answer_timestamp</th>\n",
       "      <th>payment_type</th>\n",
       "      <th>product_id</th>\n",
       "      <th>seller_id</th>\n",
       "      <th>shipping_limit_date</th>\n",
       "      <th>product_category_name</th>\n",
       "      <th>seller_city</th>\n",
       "      <th>seller_state</th>\n",
       "    </tr>\n",
       "  </thead>\n",
       "  <tbody>\n",
       "    <tr>\n",
       "      <th>count</th>\n",
       "      <td>111705</td>\n",
       "      <td>111705</td>\n",
       "      <td>111705</td>\n",
       "      <td>111705</td>\n",
       "      <td>111690</td>\n",
       "      <td>110530</td>\n",
       "      <td>109366</td>\n",
       "      <td>111705</td>\n",
       "      <td>107697</td>\n",
       "      <td>107697</td>\n",
       "      <td>107697</td>\n",
       "      <td>111705</td>\n",
       "      <td>13416</td>\n",
       "      <td>47402</td>\n",
       "      <td>111705</td>\n",
       "      <td>111705</td>\n",
       "      <td>111705</td>\n",
       "      <td>111705</td>\n",
       "      <td>111705</td>\n",
       "      <td>111705</td>\n",
       "      <td>110116</td>\n",
       "      <td>111705</td>\n",
       "      <td>111705</td>\n",
       "    </tr>\n",
       "    <tr>\n",
       "      <th>unique</th>\n",
       "      <td>97916</td>\n",
       "      <td>97916</td>\n",
       "      <td>7</td>\n",
       "      <td>97370</td>\n",
       "      <td>89533</td>\n",
       "      <td>80449</td>\n",
       "      <td>95021</td>\n",
       "      <td>449</td>\n",
       "      <td>94655</td>\n",
       "      <td>4107</td>\n",
       "      <td>27</td>\n",
       "      <td>97454</td>\n",
       "      <td>4495</td>\n",
       "      <td>35618</td>\n",
       "      <td>632</td>\n",
       "      <td>97292</td>\n",
       "      <td>4</td>\n",
       "      <td>32789</td>\n",
       "      <td>3090</td>\n",
       "      <td>92642</td>\n",
       "      <td>73</td>\n",
       "      <td>611</td>\n",
       "      <td>23</td>\n",
       "    </tr>\n",
       "    <tr>\n",
       "      <th>top</th>\n",
       "      <td>8272b63d03f5f79c56e9e4120aec44ef</td>\n",
       "      <td>fc3d1daec319d62d49bfb5e1f83123e9</td>\n",
       "      <td>delivered</td>\n",
       "      <td>2017-07-16 18:19:25</td>\n",
       "      <td>2018-02-24 03:20:27</td>\n",
       "      <td>2018-05-09 15:48:00</td>\n",
       "      <td>2017-07-31 18:03:02</td>\n",
       "      <td>2017-12-20 00:00:00</td>\n",
       "      <td>4546caea018ad8c692964e3382debd19</td>\n",
       "      <td>sao paulo</td>\n",
       "      <td>SP</td>\n",
       "      <td>e8236fe7b6e1bdd513a500de361e2b87</td>\n",
       "      <td>Recomendo</td>\n",
       "      <td>Muito bom</td>\n",
       "      <td>2017-12-19 00:00:00</td>\n",
       "      <td>2017-07-30 14:19:07</td>\n",
       "      <td>credit_card</td>\n",
       "      <td>aca2eb7d00ea1a7b8ebd4e68314663af</td>\n",
       "      <td>6560211a19b47992c3666cc44a7e94c0</td>\n",
       "      <td>2017-07-21 18:25:23</td>\n",
       "      <td>cama_mesa_banho</td>\n",
       "      <td>sao paulo</td>\n",
       "      <td>SP</td>\n",
       "    </tr>\n",
       "    <tr>\n",
       "      <th>freq</th>\n",
       "      <td>21</td>\n",
       "      <td>21</td>\n",
       "      <td>109367</td>\n",
       "      <td>21</td>\n",
       "      <td>23</td>\n",
       "      <td>48</td>\n",
       "      <td>21</td>\n",
       "      <td>600</td>\n",
       "      <td>21</td>\n",
       "      <td>16966</td>\n",
       "      <td>45365</td>\n",
       "      <td>21</td>\n",
       "      <td>468</td>\n",
       "      <td>253</td>\n",
       "      <td>513</td>\n",
       "      <td>21</td>\n",
       "      <td>84471</td>\n",
       "      <td>524</td>\n",
       "      <td>2014</td>\n",
       "      <td>21</td>\n",
       "      <td>10982</td>\n",
       "      <td>27745</td>\n",
       "      <td>79661</td>\n",
       "    </tr>\n",
       "  </tbody>\n",
       "</table>\n",
       "</div>"
      ],
      "text/plain": [
       "                                order_id                       customer_id  \\\n",
       "count                             111705                            111705   \n",
       "unique                             97916                             97916   \n",
       "top     8272b63d03f5f79c56e9e4120aec44ef  fc3d1daec319d62d49bfb5e1f83123e9   \n",
       "freq                                  21                                21   \n",
       "\n",
       "       order_status order_purchase_timestamp    order_approved_at  \\\n",
       "count        111705                   111705               111690   \n",
       "unique            7                    97370                89533   \n",
       "top       delivered      2017-07-16 18:19:25  2018-02-24 03:20:27   \n",
       "freq         109367                       21                   23   \n",
       "\n",
       "       order_delivered_carrier_date order_delivered_customer_date  \\\n",
       "count                        110530                        109366   \n",
       "unique                        80449                         95021   \n",
       "top             2018-05-09 15:48:00           2017-07-31 18:03:02   \n",
       "freq                             48                            21   \n",
       "\n",
       "       order_estimated_delivery_date                customer_unique_id  \\\n",
       "count                         111705                            107697   \n",
       "unique                           449                             94655   \n",
       "top              2017-12-20 00:00:00  4546caea018ad8c692964e3382debd19   \n",
       "freq                             600                                21   \n",
       "\n",
       "       customer_city customer_state                         review_id  \\\n",
       "count         107697         107697                            111705   \n",
       "unique          4107             27                             97454   \n",
       "top        sao paulo             SP  e8236fe7b6e1bdd513a500de361e2b87   \n",
       "freq           16966          45365                                21   \n",
       "\n",
       "       review_comment_title review_comment_message review_creation_date  \\\n",
       "count                 13416                  47402               111705   \n",
       "unique                 4495                  35618                  632   \n",
       "top               Recomendo              Muito bom  2017-12-19 00:00:00   \n",
       "freq                    468                    253                  513   \n",
       "\n",
       "       review_answer_timestamp payment_type                        product_id  \\\n",
       "count                   111705       111705                            111705   \n",
       "unique                   97292            4                             32789   \n",
       "top        2017-07-30 14:19:07  credit_card  aca2eb7d00ea1a7b8ebd4e68314663af   \n",
       "freq                        21        84471                               524   \n",
       "\n",
       "                               seller_id  shipping_limit_date  \\\n",
       "count                             111705               111705   \n",
       "unique                              3090                92642   \n",
       "top     6560211a19b47992c3666cc44a7e94c0  2017-07-21 18:25:23   \n",
       "freq                                2014                   21   \n",
       "\n",
       "       product_category_name seller_city seller_state  \n",
       "count                 110116      111705       111705  \n",
       "unique                    73         611           23  \n",
       "top          cama_mesa_banho   sao paulo           SP  \n",
       "freq                   10982       27745        79661  "
      ]
     },
     "execution_count": 25,
     "metadata": {},
     "output_type": "execute_result"
    }
   ],
   "source": [
    "data.describe(include=\"object\")"
   ]
  },
  {
   "cell_type": "markdown",
   "metadata": {},
   "source": [
    "***\n",
    "# 4 Feeture engineering"
   ]
  },
  {
   "cell_type": "markdown",
   "metadata": {},
   "source": [
    "## 4.0 Remove *_id"
   ]
  },
  {
   "cell_type": "code",
   "execution_count": 26,
   "metadata": {},
   "outputs": [],
   "source": [
    "def fe_id_remove(dataset, diff=[]):\n",
    "    id_cols = dataset.columns[dataset.columns.str.contains(\"_id\")]\n",
    "    id_cols = id_cols.difference(diff)\n",
    "    dataset.drop(columns=id_cols, inplace=True)\n",
    "    return dataset"
   ]
  },
  {
   "cell_type": "markdown",
   "metadata": {},
   "source": [
    "***\n",
    "## 4.1 Volume"
   ]
  },
  {
   "cell_type": "code",
   "execution_count": 27,
   "metadata": {},
   "outputs": [],
   "source": [
    "def fe_volume(dataset):\n",
    "    dataset[\"product_volume_cm3\"] = dataset[\"product_length_cm\"] * dataset[\"product_height_cm\"] * dataset[\"product_width_cm\"]\n",
    "    return dataset"
   ]
  },
  {
   "cell_type": "markdown",
   "metadata": {},
   "source": [
    "***\n",
    "## 4.2 Order purchase timestamp"
   ]
  },
  {
   "cell_type": "code",
   "execution_count": 28,
   "metadata": {},
   "outputs": [],
   "source": [
    "def fe_purchase_timestamp(dataset):\n",
    "    dataset.loc[:, \"order_purchase_timestamp\"] = dataset.loc[:, \"order_purchase_timestamp\"].apply(pd.to_datetime)\n",
    "    opt = dataset.loc[:, \"order_purchase_timestamp\"]\n",
    "    dataset[\"order_purchase_year\"] = opt.dt.year\n",
    "    dataset[\"order_purchase_month\"] = opt.dt.month\n",
    "    dataset[\"order_purchase_day\"] = opt.dt.day\n",
    "    dataset[\"order_purchase_hour\"] = opt.dt.hour\n",
    "\n",
    "    display = dataset.loc[:, [\"order_purchase_timestamp\", \"order_purchase_year\", \"order_purchase_month\", \"order_purchase_day\", \"order_purchase_hour\"]].head()\n",
    "    return dataset"
   ]
  },
  {
   "cell_type": "markdown",
   "metadata": {},
   "source": [
    "***\n",
    "## 4.3 Shipping limit date"
   ]
  },
  {
   "cell_type": "code",
   "execution_count": 29,
   "metadata": {},
   "outputs": [],
   "source": [
    "def fe_shipping_date(dataset):\n",
    "    dataset.loc[:, \"shipping_limit_date\"] = dataset.loc[:, \"shipping_limit_date\"].apply(pd.to_datetime)\n",
    "    sld = data.loc[:, \"shipping_limit_date\"]\n",
    "    dataset[\"shipping_limit_year\"] = sld.dt.year\n",
    "    dataset[\"shipping_limit_month\"] = sld.dt.month\n",
    "    dataset[\"shipping_limit_day\"] = sld.dt.day\n",
    "    dataset[\"shipping_limit_hour\"] = sld.dt.hour\n",
    "\n",
    "    display = dataset.loc[:, [\"shipping_limit_date\", \"shipping_limit_year\", \"shipping_limit_month\", \"shipping_limit_day\", \"shipping_limit_hour\"]].head()\n",
    "    return dataset"
   ]
  },
  {
   "cell_type": "markdown",
   "metadata": {},
   "source": [
    "***\n",
    "## 4.4 Estimated delivery date"
   ]
  },
  {
   "cell_type": "code",
   "execution_count": 30,
   "metadata": {},
   "outputs": [],
   "source": [
    "def fe_delivery_date(dataset):\n",
    "    dataset.loc[:, \"order_estimated_delivery_date\"] = dataset.loc[:, \"order_estimated_delivery_date\"].apply(pd.to_datetime)\n",
    "    oedd = dataset.loc[:, \"order_estimated_delivery_date\"]\n",
    "    dataset[\"order_estimated_delivery_year\"] = oedd.dt.year\n",
    "    dataset[\"order_estimated_delivery_month\"] = oedd.dt.month\n",
    "    dataset[\"order_estimated_delivery_day\"] = oedd.dt.day\n",
    "    dataset[\"order_estimated_delivery_hour\"] = oedd.dt.hour\n",
    "\n",
    "    display = dataset.loc[:, [\"order_estimated_delivery_date\", \"order_estimated_delivery_year\", \"order_estimated_delivery_month\", \"order_estimated_delivery_day\", \"order_estimated_delivery_hour\"]].head()\n",
    "    return dataset"
   ]
  },
  {
   "cell_type": "markdown",
   "metadata": {},
   "source": [
    "***\n",
    "## 4.5 Price agg"
   ]
  },
  {
   "cell_type": "code",
   "execution_count": 31,
   "metadata": {},
   "outputs": [],
   "source": [
    "def fe_price(dataset):\n",
    "    customer_price_agg = dataset.groupby(\"customer_id\").agg({\n",
    "        \"price\": [\"min\", \"max\", \"mean\", \"sum\"]\n",
    "    })\n",
    "\n",
    "    customer_price_agg.rename(columns={\n",
    "        \"min\": \"price_min\",\n",
    "        \"max\": \"price_max\",\n",
    "        \"mean\": \"price_mean\",\n",
    "        \"sum\": \"price_sum\"\n",
    "    }, inplace=True)\n",
    "\n",
    "    dataset = dataset.merge(customer_price_agg.price, on=\"customer_id\")\n",
    "    display = dataset.loc[:, [\"customer_id\", \"price_min\", \"price_max\", \"price_mean\", \"price_sum\"]].head()\n",
    "    return dataset\n"
   ]
  },
  {
   "cell_type": "markdown",
   "metadata": {},
   "source": [
    "***\n",
    "## 4.6 Last order datetime"
   ]
  },
  {
   "cell_type": "code",
   "execution_count": 32,
   "metadata": {},
   "outputs": [],
   "source": [
    "def fe_recency(dataset):\n",
    "    dataset.loc[:, \"order_purchase_timestamp\"] = dataset.loc[:, \"order_purchase_timestamp\"].apply(pd.to_datetime)\n",
    "    data_end = max(dataset.loc[:, \"order_purchase_timestamp\"] + pd.Timedelta(days=1))\n",
    "\n",
    "    opt_agg = dataset.groupby(\"customer_id\").agg({\n",
    "        \"order_purchase_timestamp\": lambda x: (data_end - max(x)).days\n",
    "    })\n",
    "\n",
    "    opt_agg.columns = [\"recency\"]\n",
    "    opt_agg = opt_agg.reset_index()\n",
    "\n",
    "    dataset = dataset.merge(opt_agg, on=\"customer_id\")\n",
    "\n",
    "    display = dataset.loc[:, [\"customer_id\", \"order_purchase_timestamp\", \"recency\"]].head()\n",
    "    return dataset"
   ]
  },
  {
   "cell_type": "markdown",
   "metadata": {},
   "source": [
    "***\n",
    "## 4.7 Frequency"
   ]
  },
  {
   "cell_type": "code",
   "execution_count": 33,
   "metadata": {},
   "outputs": [],
   "source": [
    "def fe_frequency(dataset):\n",
    "    frequency = dataset.groupby(\"customer_id\").agg({\n",
    "        \"order_id\": [\"count\"]\n",
    "    })\n",
    "\n",
    "    frequency = frequency.order_id.reset_index()\n",
    "    frequency.columns = [\"customer_id\", \"frequency\"]\n",
    "    \n",
    "    dataset = dataset.merge(frequency, how=\"left\", on=\"customer_id\")\n",
    "    display = dataset.loc[:, [\"customer_id\", \"frequency\"]].head()\n",
    "    return dataset"
   ]
  },
  {
   "cell_type": "markdown",
   "metadata": {},
   "source": [
    "***\n",
    "# 5 Modelisation"
   ]
  },
  {
   "cell_type": "markdown",
   "metadata": {},
   "source": [
    "## 5.1 RFM"
   ]
  },
  {
   "cell_type": "markdown",
   "metadata": {},
   "source": [
    "### 5.1.1 Preparation"
   ]
  },
  {
   "cell_type": "markdown",
   "metadata": {},
   "source": [
    "RFM: Récence (dat de la dernière commande), Fréquence (des commandes), Montant (de la dernière commande ou sur une période donnée)"
   ]
  },
  {
   "cell_type": "code",
   "execution_count": 34,
   "metadata": {},
   "outputs": [],
   "source": [
    "if config[\"model\"][\"rfm_raw\"][\"preparation\"]:\n",
    "    rfm_cols = [\"customer_id\",\"order_purchase_timestamp\", \"order_id\", \"price\"]\n",
    "    data_rfm = data.loc[:, rfm_cols]"
   ]
  },
  {
   "cell_type": "code",
   "execution_count": 35,
   "metadata": {},
   "outputs": [],
   "source": [
    "if config[\"model\"][\"rfm_raw\"][\"preparation\"]:\n",
    "    data_rfm = fe_id_remove(data_rfm, diff=[\"customer_id\", \"order_id\", \"product_id\"])\n",
    "    data_rfm = fe_recency(data_rfm)\n",
    "    data_rfm = fe_price(data_rfm)\n",
    "    data_rfm = fe_frequency(data_rfm)"
   ]
  },
  {
   "cell_type": "code",
   "execution_count": 36,
   "metadata": {},
   "outputs": [],
   "source": [
    "if config[\"model\"][\"rfm_raw\"][\"preparation\"]:\n",
    "    data_rfm.drop(columns=[\"price\", \"price_min\", \"price_max\", \"price_mean\", \"order_purchase_timestamp\", \"order_id\"], inplace=True)\n",
    "    data_rfm.rename(columns={\"recency\": \"Récence\", \"price_sum\": \"Montant\", \"frequency\": \"Fréquence\"}, inplace=True)"
   ]
  },
  {
   "cell_type": "code",
   "execution_count": 37,
   "metadata": {},
   "outputs": [],
   "source": [
    "display = None\n",
    "if config[\"model\"][\"rfm_raw\"][\"preparation\"]:\n",
    "    display = data_rfm.describe()\n",
    "display"
   ]
  },
  {
   "cell_type": "code",
   "execution_count": 38,
   "metadata": {},
   "outputs": [],
   "source": [
    "if config[\"model\"][\"rfm_raw\"][\"preparation\"]:\n",
    "    rfm_distplot(data_rfm, [\"customer_id\"])"
   ]
  },
  {
   "cell_type": "code",
   "execution_count": 39,
   "metadata": {},
   "outputs": [],
   "source": [
    "if config[\"model\"][\"rfm_raw\"][\"preparation\"]:\n",
    "    correlation_heatmap(data_rfm, figsize=(20, 5))"
   ]
  },
  {
   "cell_type": "code",
   "execution_count": 40,
   "metadata": {},
   "outputs": [],
   "source": [
    "if config[\"model\"][\"rfm_raw\"][\"preparation\"]:\n",
    "\n",
    "    model = KMeans(n_clusters=4)\n",
    "\n",
    "    pipeline, preproc, data_preproc = evaluate(data_rfm, model)"
   ]
  },
  {
   "cell_type": "code",
   "execution_count": 41,
   "metadata": {},
   "outputs": [],
   "source": [
    "display = None\n",
    "if config[\"model\"][\"rfm_raw\"][\"preparation\"]:\n",
    "    display = data_preproc.head()\n",
    "display"
   ]
  },
  {
   "cell_type": "code",
   "execution_count": 42,
   "metadata": {},
   "outputs": [],
   "source": [
    "if config[\"model\"][\"rfm_raw\"][\"preparation\"]:\n",
    "    rfm_distplot(data_preproc, [\"customer_id\"])"
   ]
  },
  {
   "cell_type": "markdown",
   "metadata": {},
   "source": [
    "***\n",
    "### 5.1.2 Cluster N analysis"
   ]
  },
  {
   "cell_type": "code",
   "execution_count": 43,
   "metadata": {},
   "outputs": [],
   "source": [
    "if config[\"model\"][\"rfm_raw\"][\"n_cluster\"]:\n",
    "    elbow(data_preproc.copy(), (2, 12))"
   ]
  },
  {
   "cell_type": "code",
   "execution_count": 44,
   "metadata": {},
   "outputs": [],
   "source": [
    "if config[\"model\"][\"rfm_raw\"][\"silhouette\"]:\n",
    "    silhouette(data_preproc.copy(), 4)"
   ]
  },
  {
   "cell_type": "markdown",
   "metadata": {},
   "source": [
    "Silhouette for n=4  \n",
    "![alt text](plots/kmeans_4n.png \"Silhouette for n=4\")"
   ]
  },
  {
   "cell_type": "markdown",
   "metadata": {},
   "source": [
    "***\n",
    "### 5.1.3 Explaination"
   ]
  },
  {
   "cell_type": "code",
   "execution_count": 45,
   "metadata": {},
   "outputs": [],
   "source": [
    "display = None\n",
    "if config[\"model\"][\"rfm_raw\"][\"explain\"]:\n",
    "    display = explain(data_rfm, data_preproc)\n",
    "display"
   ]
  },
  {
   "cell_type": "code",
   "execution_count": 46,
   "metadata": {},
   "outputs": [],
   "source": [
    "if config[\"model\"][\"rfm_raw\"][\"explain\"]:\n",
    "    pred = KMeans(n_clusters=4, random_state=1).fit_predict(data_preproc)"
   ]
  },
  {
   "cell_type": "code",
   "execution_count": 47,
   "metadata": {},
   "outputs": [],
   "source": [
    "if config[\"model\"][\"rfm_raw\"][\"explain\"]:\n",
    "    plt.subplots(3, 3, figsize=(30, 15))\n",
    "    plt.subplots_adjust(wspace=0.15, hspace=0.15)\n",
    "\n",
    "    plt.subplot(3 ,3, 1)\n",
    "    sns.scatterplot(x=data_rfm[\"Récence\"], y=data_rfm[\"Récence\"], hue=pred, palette=\"deep\")\n",
    "\n",
    "    plt.subplot(3 ,3, 2)\n",
    "    sns.scatterplot(x=data_rfm[\"Récence\"], y=data_rfm[\"Fréquence\"], hue=pred, palette=\"deep\")\n",
    "\n",
    "    plt.subplot(3 ,3, 3)\n",
    "    sns.scatterplot(x=data_rfm[\"Récence\"], y=data_rfm[\"Montant\"], hue=pred, palette=\"deep\")\n",
    "\n",
    "    plt.subplot(3 ,3, 4)\n",
    "    sns.scatterplot(x=data_rfm[\"Fréquence\"], y=data_rfm[\"Récence\"], hue=pred, palette=\"deep\")\n",
    "\n",
    "    plt.subplot(3 ,3, 5)\n",
    "    sns.scatterplot(x=data_rfm[\"Fréquence\"], y=data_rfm[\"Fréquence\"], hue=pred, palette=\"deep\")\n",
    "\n",
    "    plt.subplot(3 ,3, 6)\n",
    "    sns.scatterplot(x=data_rfm[\"Fréquence\"], y=data_rfm[\"Montant\"], hue=pred, palette=\"deep\")\n",
    "\n",
    "    plt.subplot(3 ,3, 7)\n",
    "    sns.scatterplot(x=data_rfm[\"Montant\"], y=data_rfm[\"Récence\"], hue=pred, palette=\"deep\")\n",
    "\n",
    "    plt.subplot(3 ,3, 8)\n",
    "    sns.scatterplot(x=data_rfm[\"Montant\"], y=data_rfm[\"Fréquence\"], hue=pred, palette=\"deep\")\n",
    "\n",
    "    plt.subplot(3 ,3, 9)\n",
    "    sns.scatterplot(x=data_rfm[\"Montant\"], y=data_rfm[\"Montant\"], hue=pred, palette=\"deep\")"
   ]
  },
  {
   "cell_type": "code",
   "execution_count": 48,
   "metadata": {},
   "outputs": [],
   "source": [
    "if config[\"model\"][\"rfm_raw\"][\"explain\"]:\n",
    "    pca, pca_data, loadings = apply_pca(data_preproc, data_preproc.columns, 2)\n",
    "    reduced_data = pca_data.to_numpy()\n",
    "    model = KMeans(init=\"k-means++\", n_clusters=4)\n",
    "    model.fit(reduced_data)\n",
    "\n",
    "    h = 0.02\n",
    "\n",
    "    x_min = reduced_data[:, 0].min() - 1\n",
    "    x_max = reduced_data[:, 0].max() + 1\n",
    "\n",
    "    y_min = reduced_data[:, 1].min() - 1\n",
    "    y_max = reduced_data[:, 1].max() + 1\n",
    "\n",
    "    xx, yy = np.meshgrid(np.arange(x_min, x_max, h), np.arange(y_min, y_max, h))\n",
    "\n",
    "    Z = model.predict(np.c_[xx.ravel(), yy.ravel()])\n",
    "\n",
    "    Z = Z.reshape(xx.shape)\n",
    "    plt.figure(1)\n",
    "    plt.clf()\n",
    "    plt.imshow(\n",
    "        Z, interpolation=\"nearest\",\n",
    "        extent=(xx.min(), xx.max(), yy.min(), yy.max()),\n",
    "        cmap=plt.cm.Paired,\n",
    "        aspect=\"auto\",\n",
    "        origin=\"lower\"\n",
    "    )\n",
    "\n",
    "    plt.plot(reduced_data[:, 0], reduced_data[:, 1], \"k.\", markersize=2)\n",
    "\n",
    "    centroids = model.cluster_centers_\n",
    "    plt.scatter(\n",
    "        centroids[:, 0],\n",
    "        centroids[:, 1],\n",
    "        marker=\"x\",\n",
    "        s=169,\n",
    "        linewidths=3,\n",
    "        color=\"w\",\n",
    "        zorder=10\n",
    "    )\n",
    "\n",
    "    plt.title(\"K-means clustering, PCA reduced dataset\")\n",
    "\n",
    "    plt.xlim(x_min, x_max)\n",
    "    plt.ylim(y_min, y_max)\n",
    "    plt.xticks(())\n",
    "    plt.yticks(())\n",
    "    plt.show()"
   ]
  },
  {
   "cell_type": "code",
   "execution_count": 49,
   "metadata": {},
   "outputs": [],
   "source": [
    "if config[\"model\"][\"rfm_raw\"][\"explain\"]:\n",
    "    loadings"
   ]
  },
  {
   "cell_type": "code",
   "execution_count": 50,
   "metadata": {},
   "outputs": [],
   "source": [
    "if config[\"model\"][\"rfm_raw\"][\"explain\"]:\n",
    "    plot_variance(pca)"
   ]
  },
  {
   "cell_type": "markdown",
   "metadata": {},
   "source": [
    "***\n",
    "### 5.1.4 Persona"
   ]
  },
  {
   "cell_type": "code",
   "execution_count": 51,
   "metadata": {},
   "outputs": [],
   "source": [
    "if config[\"model\"][\"rfm_raw\"][\"persona\"]:\n",
    "    display"
   ]
  },
  {
   "cell_type": "code",
   "execution_count": 52,
   "metadata": {},
   "outputs": [],
   "source": [
    "if config[\"model\"][\"rfm_raw\"][\"persona\"]:\n",
    "    data_preproc[\"cluster\"] = pred\n",
    "    data_preproc[\"order_purchase_timestamp\"] = data[\"order_purchase_timestamp\"]\n",
    "    data_preproc = fe_purchase_timestamp(data_preproc)"
   ]
  },
  {
   "cell_type": "code",
   "execution_count": 53,
   "metadata": {},
   "outputs": [],
   "source": [
    "if config[\"model\"][\"rfm_raw\"][\"persona\"]:\n",
    "    data_preproc.head()"
   ]
  },
  {
   "cell_type": "code",
   "execution_count": 54,
   "metadata": {},
   "outputs": [],
   "source": [
    "if config[\"model\"][\"rfm_raw\"][\"persona\"]:\n",
    "    plt.figure(figsize=(20, 10))\n",
    "    sns.kdeplot(data=data_preproc, x=\"order_purchase_month\", hue=\"cluster\", shade=False, palette=\"deep\")"
   ]
  },
  {
   "cell_type": "code",
   "execution_count": 55,
   "metadata": {},
   "outputs": [],
   "source": [
    "if config[\"model\"][\"rfm_raw\"][\"persona\"]:\n",
    "    data_preproc[\"product_category_name\"] = data[\"product_category_name\"]"
   ]
  },
  {
   "cell_type": "code",
   "execution_count": 56,
   "metadata": {},
   "outputs": [],
   "source": [
    "if config[\"model\"][\"rfm_raw\"][\"persona\"]:\n",
    "    data_preproc.head()"
   ]
  },
  {
   "cell_type": "code",
   "execution_count": 57,
   "metadata": {},
   "outputs": [],
   "source": [
    "if config[\"model\"][\"rfm_raw\"][\"persona\"]:\n",
    "    tmp = data_preproc.groupby(\"cluster\").agg({\n",
    "        \"product_category_name\": \"value_counts\"\n",
    "    })"
   ]
  },
  {
   "cell_type": "code",
   "execution_count": 58,
   "metadata": {},
   "outputs": [],
   "source": [
    "if config[\"model\"][\"rfm_raw\"][\"persona\"]:\n",
    "    tmp.info()"
   ]
  },
  {
   "cell_type": "code",
   "execution_count": 59,
   "metadata": {},
   "outputs": [],
   "source": [
    "if config[\"model\"][\"rfm_raw\"][\"persona\"]:\n",
    "    tmp.head()"
   ]
  },
  {
   "cell_type": "code",
   "execution_count": null,
   "metadata": {},
   "outputs": [],
   "source": []
  },
  {
   "cell_type": "code",
   "execution_count": 60,
   "metadata": {},
   "outputs": [],
   "source": [
    "if config[\"model\"][\"rfm_raw\"][\"persona\"]:\n",
    "    plt.figure(figsize=(30, 10))\n",
    "    sns.countplot(data=data_preproc, x=\"product_category_name\", hue=\"cluster\", palette=\"deep\")"
   ]
  },
  {
   "cell_type": "markdown",
   "metadata": {},
   "source": [
    "#### Cluster 0 - Persona 1 - Anciens\n",
    "\n",
    "Dernier achat: il y a plus de 1 an  \n",
    "Nombre d'achats: 1.2  \n",
    "Montant: 122€  \n",
    "Population: 45 156 / 40.42%  \n",
    "\n",
    "Actions:  \n",
    "...\n",
    "\n",
    "\n",
    "#### Cluster 1 - Persona 2 - Fidèle\n",
    "\n",
    "Dernier achat: il y a 8 mois  \n",
    "Nombre d'achats: 5.4  \n",
    "Montant: 358€  \n",
    "Population: 4 659 / 4.17%  \n",
    "\n",
    "\n",
    "#### Cluster 2 - Persona 3 - Nouveaux\n",
    "\n",
    "Dernier achat: il y a 4 mois  \n",
    "Nombre d'achats: 1.2  \n",
    "Montant: 122€  \n",
    "Population: 60 284 / 53.96%  \n",
    "\n",
    "\n",
    "#### Cluster 3 - Persona 4 - Fort potentiel\n",
    "\n",
    "Dernier achat: il y a 8 mois  \n",
    "Nombre d'achats: 1.7  \n",
    "Montant: 819€  \n",
    "Population: 1 606 / 1.43%  \n",
    "\n",
    "Actions:  \n",
    "Client à fort potentiel. Mise en place d'une action de fidélisation nécessaire.  "
   ]
  },
  {
   "cell_type": "markdown",
   "metadata": {},
   "source": [
    "***\n",
    "## 5.2 Global"
   ]
  },
  {
   "cell_type": "code",
   "execution_count": 107,
   "metadata": {},
   "outputs": [
    {
     "data": {
      "text/html": [
       "<div>\n",
       "<style scoped>\n",
       "    .dataframe tbody tr th:only-of-type {\n",
       "        vertical-align: middle;\n",
       "    }\n",
       "\n",
       "    .dataframe tbody tr th {\n",
       "        vertical-align: top;\n",
       "    }\n",
       "\n",
       "    .dataframe thead th {\n",
       "        text-align: right;\n",
       "    }\n",
       "</style>\n",
       "<table border=\"1\" class=\"dataframe\">\n",
       "  <thead>\n",
       "    <tr style=\"text-align: right;\">\n",
       "      <th></th>\n",
       "      <th>customer_zip_code_prefix</th>\n",
       "      <th>review_score</th>\n",
       "      <th>payment_sequential</th>\n",
       "      <th>payment_installments</th>\n",
       "      <th>payment_value</th>\n",
       "      <th>order_item_id</th>\n",
       "      <th>price</th>\n",
       "      <th>freight_value</th>\n",
       "      <th>product_name_lenght</th>\n",
       "      <th>product_description_lenght</th>\n",
       "      <th>product_photos_qty</th>\n",
       "      <th>product_weight_g</th>\n",
       "      <th>product_length_cm</th>\n",
       "      <th>product_height_cm</th>\n",
       "      <th>product_width_cm</th>\n",
       "      <th>seller_zip_code_prefix</th>\n",
       "      <th>price_min</th>\n",
       "      <th>price_max</th>\n",
       "      <th>price_mean</th>\n",
       "      <th>price_sum</th>\n",
       "    </tr>\n",
       "  </thead>\n",
       "  <tbody>\n",
       "    <tr>\n",
       "      <th>0</th>\n",
       "      <td>-1.091392</td>\n",
       "      <td>-0.024223</td>\n",
       "      <td>-0.088323</td>\n",
       "      <td>-0.715797</td>\n",
       "      <td>-0.590499</td>\n",
       "      <td>-0.283344</td>\n",
       "      <td>-0.496240</td>\n",
       "      <td>-0.719345</td>\n",
       "      <td>-0.881661</td>\n",
       "      <td>-0.802921</td>\n",
       "      <td>1.047123</td>\n",
       "      <td>-0.424670</td>\n",
       "      <td>-0.69045</td>\n",
       "      <td>-0.638793</td>\n",
       "      <td>-0.853820</td>\n",
       "      <td>-0.546928</td>\n",
       "      <td>-0.491182</td>\n",
       "      <td>-0.501271</td>\n",
       "      <td>-0.497775</td>\n",
       "      <td>-0.478889</td>\n",
       "    </tr>\n",
       "    <tr>\n",
       "      <th>1</th>\n",
       "      <td>-1.083997</td>\n",
       "      <td>-0.024223</td>\n",
       "      <td>-0.088323</td>\n",
       "      <td>-0.000042</td>\n",
       "      <td>-0.517486</td>\n",
       "      <td>-0.283344</td>\n",
       "      <td>-0.496240</td>\n",
       "      <td>-0.778985</td>\n",
       "      <td>-0.881661</td>\n",
       "      <td>-0.802921</td>\n",
       "      <td>1.047123</td>\n",
       "      <td>-0.424670</td>\n",
       "      <td>-0.69045</td>\n",
       "      <td>-0.638793</td>\n",
       "      <td>-0.853820</td>\n",
       "      <td>-0.546928</td>\n",
       "      <td>-0.491182</td>\n",
       "      <td>-0.501271</td>\n",
       "      <td>-0.497775</td>\n",
       "      <td>-0.478889</td>\n",
       "    </tr>\n",
       "    <tr>\n",
       "      <th>2</th>\n",
       "      <td>-1.120665</td>\n",
       "      <td>0.696754</td>\n",
       "      <td>-0.088323</td>\n",
       "      <td>-0.715797</td>\n",
       "      <td>-0.517486</td>\n",
       "      <td>-0.283344</td>\n",
       "      <td>-0.496240</td>\n",
       "      <td>-0.778985</td>\n",
       "      <td>-0.881661</td>\n",
       "      <td>-0.802921</td>\n",
       "      <td>1.047123</td>\n",
       "      <td>-0.424670</td>\n",
       "      <td>-0.69045</td>\n",
       "      <td>-0.638793</td>\n",
       "      <td>-0.853820</td>\n",
       "      <td>-0.546928</td>\n",
       "      <td>-0.491182</td>\n",
       "      <td>-0.501271</td>\n",
       "      <td>-0.497775</td>\n",
       "      <td>-0.478889</td>\n",
       "    </tr>\n",
       "    <tr>\n",
       "      <th>3</th>\n",
       "      <td>1.801291</td>\n",
       "      <td>-0.745200</td>\n",
       "      <td>-0.088323</td>\n",
       "      <td>-0.715797</td>\n",
       "      <td>-0.494003</td>\n",
       "      <td>-0.283344</td>\n",
       "      <td>-0.496240</td>\n",
       "      <td>-0.378002</td>\n",
       "      <td>-0.881661</td>\n",
       "      <td>-0.802921</td>\n",
       "      <td>1.047123</td>\n",
       "      <td>-0.424670</td>\n",
       "      <td>-0.69045</td>\n",
       "      <td>-0.638793</td>\n",
       "      <td>-0.853820</td>\n",
       "      <td>-0.546928</td>\n",
       "      <td>-0.491182</td>\n",
       "      <td>-0.501271</td>\n",
       "      <td>-0.497775</td>\n",
       "      <td>-0.478889</td>\n",
       "    </tr>\n",
       "    <tr>\n",
       "      <th>4</th>\n",
       "      <td>-0.906414</td>\n",
       "      <td>0.696754</td>\n",
       "      <td>-0.088323</td>\n",
       "      <td>-0.715797</td>\n",
       "      <td>-0.346862</td>\n",
       "      <td>-0.283344</td>\n",
       "      <td>-0.244687</td>\n",
       "      <td>-0.778351</td>\n",
       "      <td>0.926588</td>\n",
       "      <td>-0.602099</td>\n",
       "      <td>0.462142</td>\n",
       "      <td>-0.494535</td>\n",
       "      <td>-0.62849</td>\n",
       "      <td>-0.489996</td>\n",
       "      <td>-0.682959</td>\n",
       "      <td>-0.546928</td>\n",
       "      <td>-0.238547</td>\n",
       "      <td>-0.251678</td>\n",
       "      <td>-0.245444</td>\n",
       "      <td>-0.299444</td>\n",
       "    </tr>\n",
       "  </tbody>\n",
       "</table>\n",
       "</div>"
      ],
      "text/plain": [
       "   customer_zip_code_prefix  review_score  payment_sequential  \\\n",
       "0                 -1.091392     -0.024223           -0.088323   \n",
       "1                 -1.083997     -0.024223           -0.088323   \n",
       "2                 -1.120665      0.696754           -0.088323   \n",
       "3                  1.801291     -0.745200           -0.088323   \n",
       "4                 -0.906414      0.696754           -0.088323   \n",
       "\n",
       "   payment_installments  payment_value  order_item_id     price  \\\n",
       "0             -0.715797      -0.590499      -0.283344 -0.496240   \n",
       "1             -0.000042      -0.517486      -0.283344 -0.496240   \n",
       "2             -0.715797      -0.517486      -0.283344 -0.496240   \n",
       "3             -0.715797      -0.494003      -0.283344 -0.496240   \n",
       "4             -0.715797      -0.346862      -0.283344 -0.244687   \n",
       "\n",
       "   freight_value  product_name_lenght  product_description_lenght  \\\n",
       "0      -0.719345            -0.881661                   -0.802921   \n",
       "1      -0.778985            -0.881661                   -0.802921   \n",
       "2      -0.778985            -0.881661                   -0.802921   \n",
       "3      -0.378002            -0.881661                   -0.802921   \n",
       "4      -0.778351             0.926588                   -0.602099   \n",
       "\n",
       "   product_photos_qty  product_weight_g  product_length_cm  product_height_cm  \\\n",
       "0            1.047123         -0.424670           -0.69045          -0.638793   \n",
       "1            1.047123         -0.424670           -0.69045          -0.638793   \n",
       "2            1.047123         -0.424670           -0.69045          -0.638793   \n",
       "3            1.047123         -0.424670           -0.69045          -0.638793   \n",
       "4            0.462142         -0.494535           -0.62849          -0.489996   \n",
       "\n",
       "   product_width_cm  seller_zip_code_prefix  price_min  price_max  price_mean  \\\n",
       "0         -0.853820               -0.546928  -0.491182  -0.501271   -0.497775   \n",
       "1         -0.853820               -0.546928  -0.491182  -0.501271   -0.497775   \n",
       "2         -0.853820               -0.546928  -0.491182  -0.501271   -0.497775   \n",
       "3         -0.853820               -0.546928  -0.491182  -0.501271   -0.497775   \n",
       "4         -0.682959               -0.546928  -0.238547  -0.251678   -0.245444   \n",
       "\n",
       "   price_sum  \n",
       "0  -0.478889  \n",
       "1  -0.478889  \n",
       "2  -0.478889  \n",
       "3  -0.478889  \n",
       "4  -0.299444  "
      ]
     },
     "execution_count": 107,
     "metadata": {},
     "output_type": "execute_result"
    }
   ],
   "source": [
    "display = None\n",
    "\n",
    "if config[\"pca\"][\"do\"]:\n",
    "    global_cols = data.select_dtypes([\"int64\", \"float64\"]).columns\n",
    "    global_cols = global_cols.append(data.loc[:, [\"customer_id\"]].columns)\n",
    "\n",
    "    global_data = data[global_cols]\n",
    "    global_data = fe_price(global_data)\n",
    "\n",
    "    global_data_preproc = preprocess_data(global_data)\n",
    "\n",
    "    display = global_data_preproc.head()\n",
    "\n",
    "display"
   ]
  },
  {
   "cell_type": "code",
   "execution_count": 108,
   "metadata": {},
   "outputs": [
    {
     "data": {
      "image/png": "[encoded data removed]",
      "text/plain": [
       "<Figure size 1080x360 with 1 Axes>"
      ]
     },
     "metadata": {},
     "output_type": "display_data"
    }
   ],
   "source": [
    "if config[\"pca\"][\"do\"]:\n",
    "    pca = scree_plot(global_data_preproc)"
   ]
  },
  {
   "cell_type": "code",
   "execution_count": 109,
   "metadata": {},
   "outputs": [],
   "source": [
    "if config[\"pca\"][\"elbow\"]:\n",
    "    elbow(global_data_preproc)"
   ]
  },
  {
   "cell_type": "code",
   "execution_count": 110,
   "metadata": {},
   "outputs": [],
   "source": [
    "if config[\"pca\"][\"silhouette\"]:\n",
    "    silhouette(global_data_preproc, 4)"
   ]
  },
  {
   "cell_type": "code",
   "execution_count": 111,
   "metadata": {},
   "outputs": [
    {
     "data": {
      "image/png": "[encoded data removed]",
      "text/plain": [
       "<Figure size 2160x720 with 1 Axes>"
      ]
     },
     "metadata": {},
     "output_type": "display_data"
    }
   ],
   "source": [
    "if config[\"pca\"][\"do\"]:\n",
    "    explain_data = explain_global(global_data, global_data_preproc, 6)"
   ]
  }
 ],
 "metadata": {
  "interpreter": {
   "hash": "586ad1ed5c97141e2437e681efbf1ec0adcd17d830cf5af2ca3d2819e743e158"
  },
  "kernelspec": {
   "display_name": "Python 3.8.12 64-bit ('base': conda)",
   "language": "python",
   "name": "python3"
  },
  "language_info": {
   "codemirror_mode": {
    "name": "ipython",
    "version": 3
   },
   "file_extension": ".py",
   "mimetype": "text/x-python",
   "name": "python",
   "nbconvert_exporter": "python",
   "pygments_lexer": "ipython3",
   "version": "3.8.12"
  },
  "orig_nbformat": 4
 },
 "nbformat": 4,
 "nbformat_minor": 2
}
