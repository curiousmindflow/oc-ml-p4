{
 "cells": [
  {
   "cell_type": "markdown",
   "metadata": {},
   "source": [
    "# 0 Configuration"
   ]
  },
  {
   "cell_type": "code",
   "execution_count": 1,
   "metadata": {},
   "outputs": [],
   "source": [
    "config = {\n",
    "    \"overview\": {\n",
    "\n",
    "    },\n",
    "    \"fe\": {\n",
    "\n",
    "    },\n",
    "    \"model\": {\n",
    "        \"kmeans\": True\n",
    "    },\n",
    "    \"explain\": {\n",
    "\n",
    "    }\n",
    "}"
   ]
  },
  {
   "cell_type": "markdown",
   "metadata": {},
   "source": [
    "***\n",
    "# 1 Dependencies import"
   ]
  },
  {
   "cell_type": "markdown",
   "metadata": {},
   "source": [
    "## 1.0 Libraries"
   ]
  },
  {
   "cell_type": "code",
   "execution_count": 2,
   "metadata": {},
   "outputs": [],
   "source": [
    "import numpy as np\n",
    "import pandas as pd\n",
    "import matplotlib.pyplot as plt\n",
    "import seaborn as sns\n",
    "\n",
    "import warnings\n",
    "\n",
    "from sklearn.compose import ColumnTransformer\n",
    "from sklearn.pipeline import Pipeline\n",
    "from sklearn.impute import SimpleImputer\n",
    "from sklearn.preprocessing import OneHotEncoder, OrdinalEncoder, StandardScaler, MinMaxScaler\n",
    "from sklearn.cluster import KMeans\n",
    "from sklearn.decomposition import PCA\n",
    "from sklearn.metrics import silhouette_score\n",
    "\n",
    "from yellowbrick.cluster import SilhouetteVisualizer, KElbowVisualizer\n",
    "\n",
    "from math import ceil\n",
    "\n",
    "pd.set_option(\"display.max_columns\", None)\n",
    "pd.set_option(\"display.max_rows\", None)\n",
    "\n",
    "np.random.seed(0)"
   ]
  },
  {
   "cell_type": "markdown",
   "metadata": {},
   "source": [
    "***\n",
    "## 1.1 Features selection"
   ]
  },
  {
   "cell_type": "code",
   "execution_count": 3,
   "metadata": {},
   "outputs": [],
   "source": [
    "def get_categorical_features_name(dataset, split_by_unique_count=True, split_count=10):\n",
    "    features_name = dataset.select_dtypes([\"object\", \"bool\"]).columns\n",
    "    if split_by_unique_count:\n",
    "        less_uniques = [feature_name for feature_name in features_name if dataset[feature_name].nunique() <= split_count]\n",
    "        lot_uniques = features_name.difference(less_uniques).tolist()\n",
    "        return (less_uniques, lot_uniques)\n",
    "    else:\n",
    "        return features_name.values.tolist()"
   ]
  },
  {
   "cell_type": "code",
   "execution_count": 4,
   "metadata": {},
   "outputs": [],
   "source": [
    "def get_numerical_features_name(dataset):\n",
    "    features_name = dataset.select_dtypes([\"int64\", \"float64\"]).columns.values.tolist()\n",
    "    return features_name"
   ]
  },
  {
   "cell_type": "code",
   "execution_count": 5,
   "metadata": {},
   "outputs": [],
   "source": [
    "def progressiveFeatureSelection(df, n_clusters=3, max_features=4,):\n",
    "    feature_list = list(df.columns)\n",
    "    selected_features = list()\n",
    "    # select starting feature\n",
    "    initial_feature = \"\"\n",
    "    high_score = 0\n",
    "    for feature in feature_list:\n",
    "        kmeans = KMeans(n_clusters=n_clusters, random_state=42)\n",
    "        data_ = df[feature]\n",
    "        labels = kmeans.fit_predict(data_.to_frame())\n",
    "        score_ = silhouette_score(data_.to_frame(), labels)\n",
    "        print(\"Proposed new feature {} with score {}\". format(feature, score_))\n",
    "        if score_ >= high_score:\n",
    "            initial_feature = feature\n",
    "            high_score = score_\n",
    "    print(\"The initial feature is {} with a silhouette score of {}.\".format(initial_feature, high_score))\n",
    "    feature_list.remove(initial_feature)\n",
    "    selected_features.append(initial_feature)\n",
    "    for _ in range(max_features-1):\n",
    "        high_score = 0\n",
    "        selected_feature = \"\"\n",
    "        print(\"Starting selection {}...\".format(_))\n",
    "        for feature in feature_list:\n",
    "            selection_ = selected_features.copy()\n",
    "            selection_.append(feature)\n",
    "            kmeans = KMeans(n_clusters=n_clusters, random_state=42)\n",
    "            data_ = df[selection_]\n",
    "            labels = kmeans.fit_predict(data_)\n",
    "            score_ = silhouette_score(data_, labels)\n",
    "            print(\"Proposed new feature {} with score {}\". format(feature, score_))\n",
    "            if score_ > high_score:\n",
    "                selected_feature = feature\n",
    "                high_score = score_\n",
    "        selected_features.append(selected_feature)\n",
    "        feature_list.remove(selected_feature)\n",
    "        print(\"Selected new feature {} with score {}\". format(selected_feature, high_score))\n",
    "    return selected_features"
   ]
  },
  {
   "cell_type": "markdown",
   "metadata": {},
   "source": [
    "***\n",
    "## 1.2 Pipeline construction"
   ]
  },
  {
   "cell_type": "code",
   "execution_count": 6,
   "metadata": {},
   "outputs": [],
   "source": [
    "def evaluate(dataset, model, scoring=\"neg_root_mean_squared_error\"):\n",
    "\n",
    "    ### DATASET PREPARATION ###\n",
    "\n",
    "    # categorical_cols = get_categorical_features_name(dataset, split_by_unique_count=False)\n",
    "    numerical_cols = get_numerical_features_name(dataset)\n",
    "\n",
    "    # X = dataset[numerical_cols + categorical_cols]\n",
    "    X = dataset[numerical_cols]\n",
    "\n",
    "    ### PIPELINE CONSTRUCTION ###\n",
    "\n",
    "    num_pipe = Pipeline(steps=[\n",
    "        (\"simple_imputer\", SimpleImputer(strategy=\"mean\")),\n",
    "        (\"minmax_scaler\", MinMaxScaler())\n",
    "    ])\n",
    "\n",
    "    # cat_pipe = Pipeline(steps=[\n",
    "    #     (\"simple_imputer\", SimpleImputer(strategy=\"most_frequent\")),\n",
    "    #     (\"ordinal_encoder\", OrdinalEncoder(handle_unknown='use_encoded_value', unknown_value=np.nan)),\n",
    "    #     (\"simple_imputer_bis\", SimpleImputer(strategy=\"mean\")),\n",
    "    #     (\"std_scaler\", StandardScaler())\n",
    "    # ])\n",
    "\n",
    "    preprocessor = ColumnTransformer([\n",
    "        (\"num_pipe\", num_pipe, numerical_cols),\n",
    "        # (\"cat_pipe\", cat_pipe, categorical_cols)\n",
    "    ])\n",
    "\n",
    "    pipeline = Pipeline([\n",
    "        (\"transforms\", preprocessor),\n",
    "        (\"model\", model)\n",
    "    ])\n",
    "\n",
    "    preprocessor.fit(X)\n",
    "    array_preproc = preprocessor.transform(X)\n",
    "    data_preproc = pd.DataFrame(data=array_preproc, columns=X.columns)\n",
    "\n",
    "    return pipeline, preprocessor, data_preproc"
   ]
  },
  {
   "cell_type": "markdown",
   "metadata": {},
   "source": [
    "***\n",
    "## 1.3 Cluster evaluation"
   ]
  },
  {
   "cell_type": "code",
   "execution_count": 7,
   "metadata": {},
   "outputs": [],
   "source": [
    "def elbow_plot(range, data, figsize=(10,10)):\n",
    "    intertia_list = []\n",
    "    for n in range:\n",
    "        kmeans = KMeans(n_clusters=n, random_state=1)\n",
    "        kmeans.fit(data)\n",
    "        intertia_list.append(kmeans.inertia_)\n",
    "    fig = plt.figure(figsize=figsize)\n",
    "    ax = fig.add_subplot(111)\n",
    "    sns.lineplot(y=intertia_list, x=range, ax=ax)\n",
    "    ax.set_xlabel(\"Cluster\")\n",
    "    ax.set_ylabel(\"Inertia\")\n",
    "    ax.set_xticks(list(range))\n",
    "    fig.show()"
   ]
  },
  {
   "cell_type": "code",
   "execution_count": 8,
   "metadata": {},
   "outputs": [],
   "source": [
    "def silhouette_plot(range, data, n_cols=2, figsize=(20, 10), wspace=0.35, hspace=0.35):\n",
    "    if range[0] == 0:\n",
    "        raise Exception(\"Range must not include 0\")\n",
    "\n",
    "    n_rows = ceil(len(range)/n_cols)\n",
    "    index = 0\n",
    "\n",
    "    plt.subplots(n_rows, n_cols, figsize=figsize)\n",
    "    plt.subplots_adjust(wspace=wspace, hspace=hspace)\n",
    "\n",
    "    for n in range:\n",
    "        kmeans = KMeans(n, random_state=1)\n",
    "\n",
    "        plt.subplot(n_rows, n_cols, index+1)\n",
    "        sv = SilhouetteVisualizer(kmeans, colors=\"yellowbrick\")\n",
    "        sv.fit(data)\n",
    "\n",
    "        index += 1\n",
    "    \n",
    "    plt.show()"
   ]
  },
  {
   "cell_type": "code",
   "execution_count": 9,
   "metadata": {},
   "outputs": [],
   "source": [
    "def find_optimal_epsilon(n_neighbors, data):\n",
    "    neigh = NearestNeighbors(n_neighbors=n_neighbors)\n",
    "    nbrs = neigh.fit(data)\n",
    "    distances, indices = nbrs.kneighbors(data)\n",
    "    distances = np.sort(distances, axis=0)\n",
    "    distances = distances[:,1]\n",
    "    plt.plot(distances)"
   ]
  },
  {
   "cell_type": "markdown",
   "metadata": {},
   "source": [
    "***\n",
    "## 1.4 Dimensionality reduction"
   ]
  },
  {
   "cell_type": "code",
   "execution_count": 10,
   "metadata": {},
   "outputs": [],
   "source": [
    "def apply_pca(dataset, columns):\n",
    "    pca = PCA()\n",
    "    pca_data = pca.fit_transform(dataset[columns])\n",
    "    components_name = [f\"PC{i+1}\" for i in range(pca_data.shape[1])]\n",
    "    pca_data = pd.DataFrame(data=pca_data, columns=components_name)\n",
    "    loadings = pd.DataFrame(data=pca.components_.T, columns=components_name, index=columns)\n",
    "    return pca, pca_data, loadings"
   ]
  },
  {
   "cell_type": "code",
   "execution_count": 11,
   "metadata": {},
   "outputs": [],
   "source": [
    "def plot_variance(pca, width=8, dpi=100):\n",
    "    fig, axs = plt.subplots(1, 2)\n",
    "    n = pca.n_components_\n",
    "    grid = np.arange(1, n + 1)\n",
    "    evr = pca.explained_variance_ratio_\n",
    "\n",
    "    axs[0].bar(grid, evr)\n",
    "    axs[0].set(\n",
    "        xlabel=\"Component\", title=\"% Explained Variance\", ylim=(0.0, 1.0)\n",
    "    )\n",
    "\n",
    "    cumulative_variance = np.cumsum(evr)\n",
    "    axs[1].plot(np.r_[0, grid], np.r_[0, cumulative_variance], \"o-\")\n",
    "    axs[1].set(\n",
    "        xlabel=\"Component\", title=\"% Cumulative Variance\", ylim=(0.0, 1.0)\n",
    "    )\n",
    "\n",
    "    fig.set(figwidth=8, dpi=100)\n",
    "    return axs"
   ]
  },
  {
   "cell_type": "markdown",
   "metadata": {},
   "source": [
    "***\n",
    "## 1.5 Misc"
   ]
  },
  {
   "cell_type": "code",
   "execution_count": 12,
   "metadata": {},
   "outputs": [],
   "source": [
    "def generate_rfm_dataset(dataset, features):\n",
    "    data_rfm = data.loc[:, features]\n",
    "\n",
    "    data_rfm.loc[:, \"order_purchase_timestamp\"] = data_rfm.loc[:, \"order_purchase_timestamp\"].apply(pd.to_datetime).dt.date\n",
    "    data_rfm_end = max(data_rfm.loc[:, \"order_purchase_timestamp\"] + pd.Timedelta(days=1))\n",
    "\n",
    "    data_rfm = data_rfm.groupby(\"customer_unique_id\").agg({\n",
    "        \"order_purchase_timestamp\": lambda x: (data_rfm_end - max(x)).days,\n",
    "        \"order_id\": \"count\",\n",
    "        \"price\": \"sum\"\n",
    "    })\n",
    "\n",
    "    data_rfm.columns = [\"Récence\", \"Fréquence\", \"Montant\"]\n",
    "\n",
    "    return data_rfm"
   ]
  },
  {
   "cell_type": "code",
   "execution_count": 13,
   "metadata": {},
   "outputs": [],
   "source": [
    "def rfm_distplot(dataset, figsize=(20, 5)):\n",
    "    warnings.filterwarnings('ignore')\n",
    "\n",
    "    fig, axes = plt.subplots(1, 3, figsize=figsize)\n",
    "    for i, feature in enumerate(dataset.columns):\n",
    "        sns.distplot(dataset[feature], ax=axes[i])"
   ]
  },
  {
   "cell_type": "code",
   "execution_count": 14,
   "metadata": {},
   "outputs": [],
   "source": [
    "def correlation_heatmap(dataset, figsize=(30, 20)):\n",
    "    plt.figure(figsize=figsize)\n",
    "\n",
    "    correlation = dataset.corr()\n",
    "    mask = np.triu(np.ones_like(correlation, dtype=bool))\n",
    "\n",
    "    sns.heatmap(data=correlation, mask=mask, annot=True, vmax=.75, center=0,\n",
    "                square=True, linewidths=.5, cbar_kws={\"shrink\": .5})\n",
    "\n",
    "    plt.title(\"Correlation heatmap\", size=20)\n",
    "    plt.xticks(rotation=45, size=16, ha=\"right\")\n",
    "    plt.yticks(size=16)\n",
    "    plt.show()"
   ]
  },
  {
   "cell_type": "code",
   "execution_count": 15,
   "metadata": {},
   "outputs": [],
   "source": [
    "def elbow(dataset, k=(2, 12)):\n",
    "    model = KMeans(random_state=1)\n",
    "    elbow_visualizer = KElbowVisualizer(model, k=k)\n",
    "\n",
    "    elbow_visualizer.fit(dataset)\n",
    "    elbow_visualizer.poof()"
   ]
  },
  {
   "cell_type": "code",
   "execution_count": 16,
   "metadata": {},
   "outputs": [],
   "source": [
    "def elbow_calinski_harabasz(dataset, k=(2, 12)):\n",
    "    model = KMeans()\n",
    "    elbow_visualizer = KElbowVisualizer(model, k=k, metric=\"calinski_harabasz\")\n",
    "\n",
    "    elbow_visualizer.fit(dataset)\n",
    "    elbow_visualizer.poof()"
   ]
  },
  {
   "cell_type": "code",
   "execution_count": 17,
   "metadata": {},
   "outputs": [],
   "source": [
    "def silhouette(dataset, n):\n",
    "    model = KMeans(n)\n",
    "    silhouette_visualizer = SilhouetteVisualizer(model)\n",
    "\n",
    "    silhouette_visualizer.fit(dataset)\n",
    "    silhouette_visualizer.poof()"
   ]
  },
  {
   "cell_type": "code",
   "execution_count": 18,
   "metadata": {},
   "outputs": [],
   "source": [
    "def rfm_3d_scatterplot(dataset, n):\n",
    "    model = KMeans(n_clusters=n).fit(dataset)\n",
    "    centers = model.cluster_centers_\n",
    "    fig = plt.figure()\n",
    "    ax = fig.add_subplot(111, projection=\"3d\")\n",
    "    ax.scatter3D(dataset[\"Récence\"], dataset[\"Fréquence\"], dataset[\"Montant\"], cmap=\"brg\", c=model.predict(dataset))\n",
    "    ax.scatter(centers[:, 0], centers[:, 1], c=\"black\")\n",
    "    ax.set_xlabel(\"Récence\")\n",
    "    ax.set_ylabel(\"Fréquence\")\n",
    "    ax.set_zlabel(\"Montant\")"
   ]
  },
  {
   "cell_type": "code",
   "execution_count": 19,
   "metadata": {},
   "outputs": [],
   "source": [
    "def rfm_explain(dataset, dataset_preproc, n):\n",
    "    model = KMeans(n_clusters=n).fit(dataset)\n",
    "\n",
    "    data_rfm_reversed = pd.DataFrame(dataset)\n",
    "    data_rfm_reversed.columns = dataset_preproc.columns\n",
    "\n",
    "    data_rfm_reversed[\"Customer_id\"] = dataset_preproc.index\n",
    "    data_rfm_reversed[\"Cluster\"] = model.labels_\n",
    "\n",
    "    data_rfm_reversed_melted = pd.melt(data_rfm_reversed.reset_index(), id_vars=[\"Customer_id\", \"Cluster\"], value_vars=[\"Récence\", \"Fréquence\", \"Montant\"], var_name=\"Features\", value_name=\"Value\")\n",
    "\n",
    "    sns.lineplot(\"Features\", \"Value\", hue=\"Cluster\", data=data_rfm_reversed_melted)\n",
    "    plt.legend()\n",
    "\n",
    "    return data_rfm_reversed.groupby(\"Cluster\").agg({\n",
    "    \"Récence\": [\"mean\", \"min\", \"max\"],\n",
    "    \"Fréquence\": [\"mean\", \"min\", \"max\"],\n",
    "    \"Montant\": [\"mean\", \"min\", \"max\", \"count\"]\n",
    "    })"
   ]
  },
  {
   "cell_type": "markdown",
   "metadata": {},
   "source": [
    "***\n",
    "# 2 Data loading"
   ]
  },
  {
   "cell_type": "code",
   "execution_count": 20,
   "metadata": {},
   "outputs": [],
   "source": [
    "data = pd.read_csv(\"data/data_cleaned.csv\", delimiter=\",\")"
   ]
  },
  {
   "cell_type": "code",
   "execution_count": 21,
   "metadata": {},
   "outputs": [],
   "source": [
    "# data = pd.read_csv(\"data/data_cleaned.csv\", delimiter=\",\", parse_dates=[\"order_purchase_timestamp\", \"order_approved_at\", \"order_delivered_carrier_date\", \"order_delivered_customer_date\", \"order_estimated_delivery_date\", \"review_creation_date\", \"review_answer_timestamp\", \"shipping_limit_date\"], infer_datetime_format=True)"
   ]
  },
  {
   "cell_type": "markdown",
   "metadata": {},
   "source": [
    "***\n",
    "# 3 Overview"
   ]
  },
  {
   "cell_type": "code",
   "execution_count": 22,
   "metadata": {},
   "outputs": [
    {
     "name": "stdout",
     "output_type": "stream",
     "text": [
      "<class 'pandas.core.frame.DataFrame'>\n",
      "RangeIndex: 112650 entries, 0 to 112649\n",
      "Data columns (total 18 columns):\n",
      " #   Column                         Non-Null Count   Dtype  \n",
      "---  ------                         --------------   -----  \n",
      " 0   order_id                       112650 non-null  object \n",
      " 1   customer_id                    112650 non-null  object \n",
      " 2   order_status                   112650 non-null  object \n",
      " 3   order_purchase_timestamp       112650 non-null  object \n",
      " 4   order_approved_at              112635 non-null  object \n",
      " 5   order_delivered_carrier_date   111456 non-null  object \n",
      " 6   order_delivered_customer_date  110196 non-null  object \n",
      " 7   order_estimated_delivery_date  112650 non-null  object \n",
      " 8   customer_unique_id             108601 non-null  object \n",
      " 9   customer_zip_code_prefix       108601 non-null  float64\n",
      " 10  customer_city                  108601 non-null  object \n",
      " 11  customer_state                 108601 non-null  object \n",
      " 12  order_item_id                  112650 non-null  int64  \n",
      " 13  product_id                     112650 non-null  object \n",
      " 14  seller_id                      112650 non-null  object \n",
      " 15  shipping_limit_date            112650 non-null  object \n",
      " 16  price                          112650 non-null  float64\n",
      " 17  freight_value                  112650 non-null  float64\n",
      "dtypes: float64(3), int64(1), object(14)\n",
      "memory usage: 15.5+ MB\n"
     ]
    }
   ],
   "source": [
    "data.info()"
   ]
  },
  {
   "cell_type": "code",
   "execution_count": 23,
   "metadata": {},
   "outputs": [
    {
     "data": {
      "text/html": [
       "<div>\n",
       "<style scoped>\n",
       "    .dataframe tbody tr th:only-of-type {\n",
       "        vertical-align: middle;\n",
       "    }\n",
       "\n",
       "    .dataframe tbody tr th {\n",
       "        vertical-align: top;\n",
       "    }\n",
       "\n",
       "    .dataframe thead th {\n",
       "        text-align: right;\n",
       "    }\n",
       "</style>\n",
       "<table border=\"1\" class=\"dataframe\">\n",
       "  <thead>\n",
       "    <tr style=\"text-align: right;\">\n",
       "      <th></th>\n",
       "      <th>customer_zip_code_prefix</th>\n",
       "      <th>order_item_id</th>\n",
       "      <th>price</th>\n",
       "      <th>freight_value</th>\n",
       "    </tr>\n",
       "  </thead>\n",
       "  <tbody>\n",
       "    <tr>\n",
       "      <th>count</th>\n",
       "      <td>108601.000000</td>\n",
       "      <td>112650.000000</td>\n",
       "      <td>112650.000000</td>\n",
       "      <td>112650.000000</td>\n",
       "    </tr>\n",
       "    <tr>\n",
       "      <th>mean</th>\n",
       "      <td>35160.952174</td>\n",
       "      <td>1.197834</td>\n",
       "      <td>120.653739</td>\n",
       "      <td>19.990320</td>\n",
       "    </tr>\n",
       "    <tr>\n",
       "      <th>std</th>\n",
       "      <td>29859.695052</td>\n",
       "      <td>0.705124</td>\n",
       "      <td>183.633928</td>\n",
       "      <td>15.806405</td>\n",
       "    </tr>\n",
       "    <tr>\n",
       "      <th>min</th>\n",
       "      <td>1003.000000</td>\n",
       "      <td>1.000000</td>\n",
       "      <td>0.850000</td>\n",
       "      <td>0.000000</td>\n",
       "    </tr>\n",
       "    <tr>\n",
       "      <th>25%</th>\n",
       "      <td>11347.000000</td>\n",
       "      <td>1.000000</td>\n",
       "      <td>39.900000</td>\n",
       "      <td>13.080000</td>\n",
       "    </tr>\n",
       "    <tr>\n",
       "      <th>50%</th>\n",
       "      <td>24355.000000</td>\n",
       "      <td>1.000000</td>\n",
       "      <td>74.990000</td>\n",
       "      <td>16.260000</td>\n",
       "    </tr>\n",
       "    <tr>\n",
       "      <th>75%</th>\n",
       "      <td>59065.000000</td>\n",
       "      <td>1.000000</td>\n",
       "      <td>134.900000</td>\n",
       "      <td>21.150000</td>\n",
       "    </tr>\n",
       "    <tr>\n",
       "      <th>max</th>\n",
       "      <td>99990.000000</td>\n",
       "      <td>21.000000</td>\n",
       "      <td>6735.000000</td>\n",
       "      <td>409.680000</td>\n",
       "    </tr>\n",
       "  </tbody>\n",
       "</table>\n",
       "</div>"
      ],
      "text/plain": [
       "       customer_zip_code_prefix  order_item_id          price  freight_value\n",
       "count             108601.000000  112650.000000  112650.000000  112650.000000\n",
       "mean               35160.952174       1.197834     120.653739      19.990320\n",
       "std                29859.695052       0.705124     183.633928      15.806405\n",
       "min                 1003.000000       1.000000       0.850000       0.000000\n",
       "25%                11347.000000       1.000000      39.900000      13.080000\n",
       "50%                24355.000000       1.000000      74.990000      16.260000\n",
       "75%                59065.000000       1.000000     134.900000      21.150000\n",
       "max                99990.000000      21.000000    6735.000000     409.680000"
      ]
     },
     "execution_count": 23,
     "metadata": {},
     "output_type": "execute_result"
    }
   ],
   "source": [
    "data.describe()"
   ]
  },
  {
   "cell_type": "code",
   "execution_count": 24,
   "metadata": {},
   "outputs": [
    {
     "data": {
      "text/html": [
       "<div>\n",
       "<style scoped>\n",
       "    .dataframe tbody tr th:only-of-type {\n",
       "        vertical-align: middle;\n",
       "    }\n",
       "\n",
       "    .dataframe tbody tr th {\n",
       "        vertical-align: top;\n",
       "    }\n",
       "\n",
       "    .dataframe thead th {\n",
       "        text-align: right;\n",
       "    }\n",
       "</style>\n",
       "<table border=\"1\" class=\"dataframe\">\n",
       "  <thead>\n",
       "    <tr style=\"text-align: right;\">\n",
       "      <th></th>\n",
       "      <th>order_id</th>\n",
       "      <th>customer_id</th>\n",
       "      <th>order_status</th>\n",
       "      <th>order_purchase_timestamp</th>\n",
       "      <th>order_approved_at</th>\n",
       "      <th>order_delivered_carrier_date</th>\n",
       "      <th>order_delivered_customer_date</th>\n",
       "      <th>order_estimated_delivery_date</th>\n",
       "      <th>customer_unique_id</th>\n",
       "      <th>customer_city</th>\n",
       "      <th>customer_state</th>\n",
       "      <th>product_id</th>\n",
       "      <th>seller_id</th>\n",
       "      <th>shipping_limit_date</th>\n",
       "    </tr>\n",
       "  </thead>\n",
       "  <tbody>\n",
       "    <tr>\n",
       "      <th>count</th>\n",
       "      <td>112650</td>\n",
       "      <td>112650</td>\n",
       "      <td>112650</td>\n",
       "      <td>112650</td>\n",
       "      <td>112635</td>\n",
       "      <td>111456</td>\n",
       "      <td>110196</td>\n",
       "      <td>112650</td>\n",
       "      <td>108601</td>\n",
       "      <td>108601</td>\n",
       "      <td>108601</td>\n",
       "      <td>112650</td>\n",
       "      <td>112650</td>\n",
       "      <td>112650</td>\n",
       "    </tr>\n",
       "    <tr>\n",
       "      <th>unique</th>\n",
       "      <td>98666</td>\n",
       "      <td>98666</td>\n",
       "      <td>7</td>\n",
       "      <td>98112</td>\n",
       "      <td>90174</td>\n",
       "      <td>81017</td>\n",
       "      <td>95664</td>\n",
       "      <td>450</td>\n",
       "      <td>95378</td>\n",
       "      <td>4109</td>\n",
       "      <td>27</td>\n",
       "      <td>32951</td>\n",
       "      <td>3095</td>\n",
       "      <td>93318</td>\n",
       "    </tr>\n",
       "    <tr>\n",
       "      <th>top</th>\n",
       "      <td>8272b63d03f5f79c56e9e4120aec44ef</td>\n",
       "      <td>fc3d1daec319d62d49bfb5e1f83123e9</td>\n",
       "      <td>delivered</td>\n",
       "      <td>2017-07-16 18:19:25</td>\n",
       "      <td>2018-02-24 03:20:27</td>\n",
       "      <td>2018-05-09 15:48:00</td>\n",
       "      <td>2017-07-31 18:03:02</td>\n",
       "      <td>2017-12-20 00:00:00</td>\n",
       "      <td>4546caea018ad8c692964e3382debd19</td>\n",
       "      <td>sao paulo</td>\n",
       "      <td>SP</td>\n",
       "      <td>aca2eb7d00ea1a7b8ebd4e68314663af</td>\n",
       "      <td>6560211a19b47992c3666cc44a7e94c0</td>\n",
       "      <td>2017-07-21 18:25:23</td>\n",
       "    </tr>\n",
       "    <tr>\n",
       "      <th>freq</th>\n",
       "      <td>21</td>\n",
       "      <td>21</td>\n",
       "      <td>110197</td>\n",
       "      <td>21</td>\n",
       "      <td>23</td>\n",
       "      <td>48</td>\n",
       "      <td>21</td>\n",
       "      <td>604</td>\n",
       "      <td>21</td>\n",
       "      <td>17104</td>\n",
       "      <td>45685</td>\n",
       "      <td>527</td>\n",
       "      <td>2033</td>\n",
       "      <td>21</td>\n",
       "    </tr>\n",
       "  </tbody>\n",
       "</table>\n",
       "</div>"
      ],
      "text/plain": [
       "                                order_id                       customer_id  \\\n",
       "count                             112650                            112650   \n",
       "unique                             98666                             98666   \n",
       "top     8272b63d03f5f79c56e9e4120aec44ef  fc3d1daec319d62d49bfb5e1f83123e9   \n",
       "freq                                  21                                21   \n",
       "\n",
       "       order_status order_purchase_timestamp    order_approved_at  \\\n",
       "count        112650                   112650               112635   \n",
       "unique            7                    98112                90174   \n",
       "top       delivered      2017-07-16 18:19:25  2018-02-24 03:20:27   \n",
       "freq         110197                       21                   23   \n",
       "\n",
       "       order_delivered_carrier_date order_delivered_customer_date  \\\n",
       "count                        111456                        110196   \n",
       "unique                        81017                         95664   \n",
       "top             2018-05-09 15:48:00           2017-07-31 18:03:02   \n",
       "freq                             48                            21   \n",
       "\n",
       "       order_estimated_delivery_date                customer_unique_id  \\\n",
       "count                         112650                            108601   \n",
       "unique                           450                             95378   \n",
       "top              2017-12-20 00:00:00  4546caea018ad8c692964e3382debd19   \n",
       "freq                             604                                21   \n",
       "\n",
       "       customer_city customer_state                        product_id  \\\n",
       "count         108601         108601                            112650   \n",
       "unique          4109             27                             32951   \n",
       "top        sao paulo             SP  aca2eb7d00ea1a7b8ebd4e68314663af   \n",
       "freq           17104          45685                               527   \n",
       "\n",
       "                               seller_id  shipping_limit_date  \n",
       "count                             112650               112650  \n",
       "unique                              3095                93318  \n",
       "top     6560211a19b47992c3666cc44a7e94c0  2017-07-21 18:25:23  \n",
       "freq                                2033                   21  "
      ]
     },
     "execution_count": 24,
     "metadata": {},
     "output_type": "execute_result"
    }
   ],
   "source": [
    "data.describe(include=\"object\")"
   ]
  },
  {
   "cell_type": "markdown",
   "metadata": {},
   "source": [
    "***\n",
    "# 4 Feeture engineering"
   ]
  },
  {
   "cell_type": "markdown",
   "metadata": {},
   "source": [
    "## 4.1 Volume"
   ]
  },
  {
   "cell_type": "code",
   "execution_count": 25,
   "metadata": {},
   "outputs": [],
   "source": [
    "# data[\"product_volume_cm3\"] = data[\"product_length_cm\"] * data[\"product_height_cm\"] * data[\"product_width_cm\"]"
   ]
  },
  {
   "cell_type": "markdown",
   "metadata": {},
   "source": [
    "***\n",
    "# 5 Modelisation"
   ]
  },
  {
   "cell_type": "markdown",
   "metadata": {},
   "source": [
    "## 5.1 RFM"
   ]
  },
  {
   "cell_type": "markdown",
   "metadata": {},
   "source": [
    "RFM: Récence (dat de la dernière commande), Fréquence (des commandes), Montant (de la dernière commande ou sur une période donnée)"
   ]
  },
  {
   "cell_type": "code",
   "execution_count": 33,
   "metadata": {},
   "outputs": [],
   "source": [
    "rfm_cols = [\"customer_unique_id\",\"order_purchase_timestamp\", \"order_id\", \"price\"]"
   ]
  },
  {
   "cell_type": "code",
   "execution_count": 26,
   "metadata": {},
   "outputs": [],
   "source": [
    "data_rfm = generate_rfm_dataset(data, rfm_cols)"
   ]
  },
  {
   "cell_type": "code",
   "execution_count": 40,
   "metadata": {},
   "outputs": [
    {
     "data": {
      "text/plain": [
       "Récence      9320\n",
       "Fréquence    9320\n",
       "Montant      9320\n",
       "dtype: int64"
      ]
     },
     "execution_count": 40,
     "metadata": {},
     "output_type": "execute_result"
    }
   ],
   "source": [
    "data_rfm[data_rfm[\"Fréquence\"] > 1].count()"
   ]
  },
  {
   "cell_type": "code",
   "execution_count": 27,
   "metadata": {},
   "outputs": [
    {
     "data": {
      "text/html": [
       "<div>\n",
       "<style scoped>\n",
       "    .dataframe tbody tr th:only-of-type {\n",
       "        vertical-align: middle;\n",
       "    }\n",
       "\n",
       "    .dataframe tbody tr th {\n",
       "        vertical-align: top;\n",
       "    }\n",
       "\n",
       "    .dataframe thead th {\n",
       "        text-align: right;\n",
       "    }\n",
       "</style>\n",
       "<table border=\"1\" class=\"dataframe\">\n",
       "  <thead>\n",
       "    <tr style=\"text-align: right;\">\n",
       "      <th></th>\n",
       "      <th>Récence</th>\n",
       "      <th>Fréquence</th>\n",
       "      <th>Montant</th>\n",
       "    </tr>\n",
       "  </thead>\n",
       "  <tbody>\n",
       "    <tr>\n",
       "      <th>count</th>\n",
       "      <td>95378.000000</td>\n",
       "      <td>95378.000000</td>\n",
       "      <td>95378.000000</td>\n",
       "    </tr>\n",
       "    <tr>\n",
       "      <th>mean</th>\n",
       "      <td>245.858290</td>\n",
       "      <td>1.138638</td>\n",
       "      <td>138.130739</td>\n",
       "    </tr>\n",
       "    <tr>\n",
       "      <th>std</th>\n",
       "      <td>153.357996</td>\n",
       "      <td>0.530795</td>\n",
       "      <td>212.011347</td>\n",
       "    </tr>\n",
       "    <tr>\n",
       "      <th>min</th>\n",
       "      <td>6.000000</td>\n",
       "      <td>1.000000</td>\n",
       "      <td>0.850000</td>\n",
       "    </tr>\n",
       "    <tr>\n",
       "      <th>25%</th>\n",
       "      <td>122.000000</td>\n",
       "      <td>1.000000</td>\n",
       "      <td>45.900000</td>\n",
       "    </tr>\n",
       "    <tr>\n",
       "      <th>50%</th>\n",
       "      <td>227.000000</td>\n",
       "      <td>1.000000</td>\n",
       "      <td>86.900000</td>\n",
       "    </tr>\n",
       "    <tr>\n",
       "      <th>75%</th>\n",
       "      <td>356.000000</td>\n",
       "      <td>1.000000</td>\n",
       "      <td>149.900000</td>\n",
       "    </tr>\n",
       "    <tr>\n",
       "      <th>max</th>\n",
       "      <td>730.000000</td>\n",
       "      <td>21.000000</td>\n",
       "      <td>13440.000000</td>\n",
       "    </tr>\n",
       "  </tbody>\n",
       "</table>\n",
       "</div>"
      ],
      "text/plain": [
       "            Récence     Fréquence       Montant\n",
       "count  95378.000000  95378.000000  95378.000000\n",
       "mean     245.858290      1.138638    138.130739\n",
       "std      153.357996      0.530795    212.011347\n",
       "min        6.000000      1.000000      0.850000\n",
       "25%      122.000000      1.000000     45.900000\n",
       "50%      227.000000      1.000000     86.900000\n",
       "75%      356.000000      1.000000    149.900000\n",
       "max      730.000000     21.000000  13440.000000"
      ]
     },
     "execution_count": 27,
     "metadata": {},
     "output_type": "execute_result"
    }
   ],
   "source": [
    "data_rfm.describe()"
   ]
  },
  {
   "cell_type": "code",
   "execution_count": 28,
   "metadata": {},
   "outputs": [
    {
     "data": {
      "image/png": "[encoded data removed]",
      "text/plain": [
       "<Figure size 1440x360 with 3 Axes>"
      ]
     },
     "metadata": {},
     "output_type": "display_data"
    }
   ],
   "source": [
    "rfm_distplot(data_rfm)"
   ]
  },
  {
   "cell_type": "code",
   "execution_count": 29,
   "metadata": {},
   "outputs": [
    {
     "data": {
      "image/png": "[encoded data removed]",
      "text/plain": [
       "<Figure size 1440x360 with 2 Axes>"
      ]
     },
     "metadata": {},
     "output_type": "display_data"
    }
   ],
   "source": [
    "correlation_heatmap(data_rfm, figsize=(20, 5))"
   ]
  },
  {
   "cell_type": "code",
   "execution_count": 30,
   "metadata": {},
   "outputs": [],
   "source": [
    "if config[\"model\"][\"kmeans\"]:\n",
    "\n",
    "    model = KMeans(n_clusters=4)\n",
    "\n",
    "    pipeline, preproc, data_preproc = evaluate(data_rfm, model)"
   ]
  },
  {
   "cell_type": "code",
   "execution_count": 31,
   "metadata": {},
   "outputs": [
    {
     "data": {
      "text/html": [
       "<div>\n",
       "<style scoped>\n",
       "    .dataframe tbody tr th:only-of-type {\n",
       "        vertical-align: middle;\n",
       "    }\n",
       "\n",
       "    .dataframe tbody tr th {\n",
       "        vertical-align: top;\n",
       "    }\n",
       "\n",
       "    .dataframe thead th {\n",
       "        text-align: right;\n",
       "    }\n",
       "</style>\n",
       "<table border=\"1\" class=\"dataframe\">\n",
       "  <thead>\n",
       "    <tr style=\"text-align: right;\">\n",
       "      <th></th>\n",
       "      <th>Récence</th>\n",
       "      <th>Fréquence</th>\n",
       "      <th>Montant</th>\n",
       "    </tr>\n",
       "  </thead>\n",
       "  <tbody>\n",
       "    <tr>\n",
       "      <th>0</th>\n",
       "      <td>0.153315</td>\n",
       "      <td>0.0</td>\n",
       "      <td>0.009603</td>\n",
       "    </tr>\n",
       "    <tr>\n",
       "      <th>1</th>\n",
       "      <td>0.157459</td>\n",
       "      <td>0.0</td>\n",
       "      <td>0.001343</td>\n",
       "    </tr>\n",
       "    <tr>\n",
       "      <th>2</th>\n",
       "      <td>0.741713</td>\n",
       "      <td>0.0</td>\n",
       "      <td>0.005071</td>\n",
       "    </tr>\n",
       "    <tr>\n",
       "      <th>3</th>\n",
       "      <td>0.443370</td>\n",
       "      <td>0.0</td>\n",
       "      <td>0.001871</td>\n",
       "    </tr>\n",
       "    <tr>\n",
       "      <th>4</th>\n",
       "      <td>0.397790</td>\n",
       "      <td>0.0</td>\n",
       "      <td>0.013330</td>\n",
       "    </tr>\n",
       "  </tbody>\n",
       "</table>\n",
       "</div>"
      ],
      "text/plain": [
       "    Récence  Fréquence   Montant\n",
       "0  0.153315        0.0  0.009603\n",
       "1  0.157459        0.0  0.001343\n",
       "2  0.741713        0.0  0.005071\n",
       "3  0.443370        0.0  0.001871\n",
       "4  0.397790        0.0  0.013330"
      ]
     },
     "execution_count": 31,
     "metadata": {},
     "output_type": "execute_result"
    }
   ],
   "source": [
    "data_preproc.head()"
   ]
  },
  {
   "cell_type": "code",
   "execution_count": 32,
   "metadata": {},
   "outputs": [
    {
     "data": {
      "image/png": "[encoded data removed]",
      "text/plain": [
       "<Figure size 1440x360 with 3 Axes>"
      ]
     },
     "metadata": {},
     "output_type": "display_data"
    }
   ],
   "source": [
    "rfm_distplot(data_preproc)"
   ]
  },
  {
   "cell_type": "code",
   "execution_count": null,
   "metadata": {},
   "outputs": [],
   "source": [
    "elbow(data_preproc, (2, 12))"
   ]
  },
  {
   "cell_type": "code",
   "execution_count": null,
   "metadata": {},
   "outputs": [],
   "source": [
    "elbow_calinski_harabasz(data_preproc, (2, 12))"
   ]
  },
  {
   "cell_type": "code",
   "execution_count": null,
   "metadata": {},
   "outputs": [],
   "source": [
    "if False:\n",
    "    silhouette(data_preproc, 4)"
   ]
  },
  {
   "cell_type": "markdown",
   "metadata": {},
   "source": [
    "Silhouette for n=4  \n",
    "![alt text](plots/kmeans_4n.png \"Silhouette for n=4\")"
   ]
  },
  {
   "cell_type": "code",
   "execution_count": null,
   "metadata": {},
   "outputs": [],
   "source": [
    "rfm_3d_scatterplot(data_preproc, 4)"
   ]
  },
  {
   "cell_type": "code",
   "execution_count": 41,
   "metadata": {},
   "outputs": [
    {
     "data": {
      "text/html": [
       "<div>\n",
       "<style scoped>\n",
       "    .dataframe tbody tr th:only-of-type {\n",
       "        vertical-align: middle;\n",
       "    }\n",
       "\n",
       "    .dataframe tbody tr th {\n",
       "        vertical-align: top;\n",
       "    }\n",
       "\n",
       "    .dataframe thead tr th {\n",
       "        text-align: left;\n",
       "    }\n",
       "\n",
       "    .dataframe thead tr:last-of-type th {\n",
       "        text-align: right;\n",
       "    }\n",
       "</style>\n",
       "<table border=\"1\" class=\"dataframe\">\n",
       "  <thead>\n",
       "    <tr>\n",
       "      <th></th>\n",
       "      <th colspan=\"3\" halign=\"left\">Récence</th>\n",
       "      <th colspan=\"3\" halign=\"left\">Fréquence</th>\n",
       "      <th colspan=\"4\" halign=\"left\">Montant</th>\n",
       "    </tr>\n",
       "    <tr>\n",
       "      <th></th>\n",
       "      <th>mean</th>\n",
       "      <th>min</th>\n",
       "      <th>max</th>\n",
       "      <th>mean</th>\n",
       "      <th>min</th>\n",
       "      <th>max</th>\n",
       "      <th>mean</th>\n",
       "      <th>min</th>\n",
       "      <th>max</th>\n",
       "      <th>count</th>\n",
       "    </tr>\n",
       "    <tr>\n",
       "      <th>Cluster</th>\n",
       "      <th></th>\n",
       "      <th></th>\n",
       "      <th></th>\n",
       "      <th></th>\n",
       "      <th></th>\n",
       "      <th></th>\n",
       "      <th></th>\n",
       "      <th></th>\n",
       "      <th></th>\n",
       "      <th></th>\n",
       "    </tr>\n",
       "  </thead>\n",
       "  <tbody>\n",
       "    <tr>\n",
       "      <th>0</th>\n",
       "      <td>135.024862</td>\n",
       "      <td>6</td>\n",
       "      <td>265</td>\n",
       "      <td>1.120363</td>\n",
       "      <td>1</td>\n",
       "      <td>12</td>\n",
       "      <td>98.897667</td>\n",
       "      <td>0.85</td>\n",
       "      <td>379.99</td>\n",
       "      <td>51403</td>\n",
       "    </tr>\n",
       "    <tr>\n",
       "      <th>1</th>\n",
       "      <td>241.355131</td>\n",
       "      <td>6</td>\n",
       "      <td>700</td>\n",
       "      <td>1.385182</td>\n",
       "      <td>1</td>\n",
       "      <td>15</td>\n",
       "      <td>590.630728</td>\n",
       "      <td>329.90</td>\n",
       "      <td>1230.00</td>\n",
       "      <td>5291</td>\n",
       "    </tr>\n",
       "    <tr>\n",
       "      <th>2</th>\n",
       "      <td>396.141956</td>\n",
       "      <td>265</td>\n",
       "      <td>730</td>\n",
       "      <td>1.123486</td>\n",
       "      <td>1</td>\n",
       "      <td>21</td>\n",
       "      <td>99.866384</td>\n",
       "      <td>2.29</td>\n",
       "      <td>420.07</td>\n",
       "      <td>38061</td>\n",
       "    </tr>\n",
       "    <tr>\n",
       "      <th>3</th>\n",
       "      <td>247.544141</td>\n",
       "      <td>9</td>\n",
       "      <td>698</td>\n",
       "      <td>1.478331</td>\n",
       "      <td>1</td>\n",
       "      <td>20</td>\n",
       "      <td>1869.912006</td>\n",
       "      <td>1234.00</td>\n",
       "      <td>13440.00</td>\n",
       "      <td>623</td>\n",
       "    </tr>\n",
       "  </tbody>\n",
       "</table>\n",
       "</div>"
      ],
      "text/plain": [
       "            Récence           Fréquence              Montant           \\\n",
       "               mean  min  max      mean min max         mean      min   \n",
       "Cluster                                                                 \n",
       "0        135.024862    6  265  1.120363   1  12    98.897667     0.85   \n",
       "1        241.355131    6  700  1.385182   1  15   590.630728   329.90   \n",
       "2        396.141956  265  730  1.123486   1  21    99.866384     2.29   \n",
       "3        247.544141    9  698  1.478331   1  20  1869.912006  1234.00   \n",
       "\n",
       "                          \n",
       "              max  count  \n",
       "Cluster                   \n",
       "0          379.99  51403  \n",
       "1         1230.00   5291  \n",
       "2          420.07  38061  \n",
       "3        13440.00    623  "
      ]
     },
     "execution_count": 41,
     "metadata": {},
     "output_type": "execute_result"
    },
    {
     "data": {
      "image/png": "[encoded data removed]",
      "text/plain": [
       "<Figure size 576x396 with 1 Axes>"
      ]
     },
     "metadata": {},
     "output_type": "display_data"
    }
   ],
   "source": [
    "rfm_explain(data_rfm, data_preproc, 4)"
   ]
  },
  {
   "cell_type": "markdown",
   "metadata": {},
   "source": [
    "***\n",
    "### 5.1.X PCA"
   ]
  },
  {
   "cell_type": "code",
   "execution_count": null,
   "metadata": {},
   "outputs": [],
   "source": [
    "# pca, pca_data, loadings = apply_pca(dataset=data_preproc, columns=[\"product_weight_g\", \"product_volume_cm3\"])"
   ]
  },
  {
   "cell_type": "code",
   "execution_count": null,
   "metadata": {},
   "outputs": [],
   "source": [
    "# pca_data.head()"
   ]
  },
  {
   "cell_type": "code",
   "execution_count": null,
   "metadata": {},
   "outputs": [],
   "source": [
    "# loadings"
   ]
  },
  {
   "cell_type": "code",
   "execution_count": null,
   "metadata": {},
   "outputs": [],
   "source": [
    "# plot_variance(pca)"
   ]
  },
  {
   "cell_type": "code",
   "execution_count": null,
   "metadata": {},
   "outputs": [],
   "source": [
    "# plt.subplots(1, 2, figsize=(30, 10))\n",
    "# plt.subplots_adjust(wspace=0.2, hspace=0.2)\n",
    "\n",
    "# plt.subplot(1, 2, 1)\n",
    "# sns.regplot(x=data_preproc[\"product_weight_g\"], y=data_preproc[\"product_volume_cm3\"], line_kws={\"color\": \"black\"})\n",
    "# sns.scatterplot(data=loadings)\n",
    "\n",
    "# plt.subplot(1, 2, 2)\n",
    "# # sns.scatterplot(data=pca_data)"
   ]
  },
  {
   "cell_type": "markdown",
   "metadata": {},
   "source": [
    "***\n",
    "# 6 Model explainability"
   ]
  }
 ],
 "metadata": {
  "interpreter": {
   "hash": "586ad1ed5c97141e2437e681efbf1ec0adcd17d830cf5af2ca3d2819e743e158"
  },
  "kernelspec": {
   "display_name": "Python 3.8.12 64-bit ('base': conda)",
   "language": "python",
   "name": "python3"
  },
  "language_info": {
   "codemirror_mode": {
    "name": "ipython",
    "version": 3
   },
   "file_extension": ".py",
   "mimetype": "text/x-python",
   "name": "python",
   "nbconvert_exporter": "python",
   "pygments_lexer": "ipython3",
   "version": "3.8.12"
  },
  "orig_nbformat": 4
 },
 "nbformat": 4,
 "nbformat_minor": 2
}
